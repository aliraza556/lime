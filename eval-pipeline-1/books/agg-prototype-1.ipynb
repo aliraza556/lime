{
 "cells": [
  {
   "cell_type": "markdown",
   "metadata": {},
   "source": [
    "## Prototype Notebook\n",
    "\n",
    "prototype building functions which:\n",
    "- parse + collate the json outputs\n",
    "- queries/aggregates the data into relevant tables"
   ]
  },
  {
   "cell_type": "code",
   "execution_count": 1,
   "metadata": {},
   "outputs": [],
   "source": [
    "import os\n",
    "import pandas as pd\n",
    "import json\n",
    "\n",
    "results_fp = '../../wordle-qa-2/results/'\n",
    "model_names = ['gpt-3.5-turbo', 'gpt-4', 'llama_13b_chat']"
   ]
  },
  {
   "cell_type": "markdown",
   "metadata": {},
   "source": [
    "### Collation + Parsing section"
   ]
  },
  {
   "cell_type": "code",
   "execution_count": 2,
   "metadata": {},
   "outputs": [
    {
     "data": {
      "text/plain": [
       "['output-json-state-1-gpt-3.5-turbo-5d4a.json',\n",
       " 'output-json-state-1-gpt-4-8309.json',\n",
       " 'output-json-state-1-llama_13b_chat-fe35.json',\n",
       " 'output-rules-qa-1-gpt-3.5-turbo-2047.json',\n",
       " 'output-rules-qa-1-gpt-4-09fa.json',\n",
       " 'output-rules-qa-1-llama_13b_chat-5f82.json',\n",
       " 'output-wsu-1-gpt-3.5-turbo-4bd8.json',\n",
       " 'output-wsu-1-gpt-4-1063.json']"
      ]
     },
     "execution_count": 2,
     "metadata": {},
     "output_type": "execute_result"
    }
   ],
   "source": [
    "def get_json_result_fns(results_fp):\n",
    "    results = os.listdir(results_fp)\n",
    "    results = [r for r in results if r.endswith('.json')]\n",
    "    results = [r for r in results if r.startswith('output')]\n",
    "    return results\n",
    "\n",
    "result_fns = get_json_result_fns(results_fp)\n",
    "result_fns"
   ]
  },
  {
   "cell_type": "code",
   "execution_count": 3,
   "metadata": {},
   "outputs": [
    {
     "data": {
      "text/plain": [
       "{'input_name': 'json-state-1', 'model_name': 'gpt-3.5-turbo', 'run_id': '5d4a'}"
      ]
     },
     "execution_count": 3,
     "metadata": {},
     "output_type": "execute_result"
    }
   ],
   "source": [
    "def parse_sheet_meta(result_fn):\n",
    "\n",
    "    result_fn = result_fn.lower()\n",
    "    result_fn = result_fn[:result_fn.find('.json')]\n",
    "    run_id = result_fn.split('-')[-1]\n",
    "\n",
    "    result_fn = '-'.join((result_fn.split('-')[:-1]))\n",
    "    model_name = 'unknown'\n",
    "    for _name in model_names:\n",
    "        if _name in result_fn:\n",
    "            model_name = _name\n",
    "            result_fn = result_fn.replace(_name, '')\n",
    "\n",
    "    input_name = result_fn.replace('output-', '')\n",
    "    if input_name.endswith('-'):\n",
    "        input_name = input_name[:-1]\n",
    "\n",
    "    return {\n",
    "        'input_name': input_name, \n",
    "        'model_name': model_name, \n",
    "        'run_id': run_id,\n",
    "    }\n",
    "\n",
    "parse_sheet_meta(result_fns[0])"
   ]
  },
  {
   "cell_type": "code",
   "execution_count": 4,
   "metadata": {},
   "outputs": [
    {
     "data": {
      "text/html": [
       "<div>\n",
       "<style scoped>\n",
       "    .dataframe tbody tr th:only-of-type {\n",
       "        vertical-align: middle;\n",
       "    }\n",
       "\n",
       "    .dataframe tbody tr th {\n",
       "        vertical-align: top;\n",
       "    }\n",
       "\n",
       "    .dataframe thead th {\n",
       "        text-align: right;\n",
       "    }\n",
       "</style>\n",
       "<table border=\"1\" class=\"dataframe\">\n",
       "  <thead>\n",
       "    <tr style=\"text-align: right;\">\n",
       "      <th></th>\n",
       "      <th>name</th>\n",
       "      <th>meta_data</th>\n",
       "      <th>ground_truth</th>\n",
       "      <th>question</th>\n",
       "      <th>completion</th>\n",
       "      <th>error</th>\n",
       "      <th>model_name</th>\n",
       "      <th>eval_time</th>\n",
       "      <th>grade</th>\n",
       "    </tr>\n",
       "  </thead>\n",
       "  <tbody>\n",
       "    <tr>\n",
       "      <th>0</th>\n",
       "      <td>Reason-Win</td>\n",
       "      <td>{'answer_type': 'mutliple-choice', 'answer_sug...</td>\n",
       "      <td>B) No</td>\n",
       "      <td>Below is the state of a wordle game. Use the o...</td>\n",
       "      <td>B) No</td>\n",
       "      <td>None</td>\n",
       "      <td>gpt-3.5-turbo</td>\n",
       "      <td>1.054595</td>\n",
       "      <td>True</td>\n",
       "    </tr>\n",
       "    <tr>\n",
       "      <th>1</th>\n",
       "      <td>Reason-Win-2</td>\n",
       "      <td>{'answer_type': 'mutliple-choice', 'answer_sug...</td>\n",
       "      <td>B) No</td>\n",
       "      <td>Below is the state of a wordle game. Use the o...</td>\n",
       "      <td>B) No</td>\n",
       "      <td>None</td>\n",
       "      <td>gpt-3.5-turbo</td>\n",
       "      <td>0.639488</td>\n",
       "      <td>True</td>\n",
       "    </tr>\n",
       "    <tr>\n",
       "      <th>2</th>\n",
       "      <td>Reason-Win-3</td>\n",
       "      <td>{'answer_type': 'mutliple-choice', 'answer_sug...</td>\n",
       "      <td>C) No - the player has not guessed all five le...</td>\n",
       "      <td>Below is the state of a wordle game. Use the o...</td>\n",
       "      <td>B) No</td>\n",
       "      <td>None</td>\n",
       "      <td>gpt-3.5-turbo</td>\n",
       "      <td>1.957797</td>\n",
       "      <td>True</td>\n",
       "    </tr>\n",
       "  </tbody>\n",
       "</table>\n",
       "</div>"
      ],
      "text/plain": [
       "           name                                          meta_data  \\\n",
       "0    Reason-Win  {'answer_type': 'mutliple-choice', 'answer_sug...   \n",
       "1  Reason-Win-2  {'answer_type': 'mutliple-choice', 'answer_sug...   \n",
       "2  Reason-Win-3  {'answer_type': 'mutliple-choice', 'answer_sug...   \n",
       "\n",
       "                                        ground_truth  \\\n",
       "0                                              B) No   \n",
       "1                                              B) No   \n",
       "2  C) No - the player has not guessed all five le...   \n",
       "\n",
       "                                            question completion error  \\\n",
       "0  Below is the state of a wordle game. Use the o...      B) No  None   \n",
       "1  Below is the state of a wordle game. Use the o...      B) No  None   \n",
       "2  Below is the state of a wordle game. Use the o...      B) No  None   \n",
       "\n",
       "      model_name  eval_time  grade  \n",
       "0  gpt-3.5-turbo   1.054595   True  \n",
       "1  gpt-3.5-turbo   0.639488   True  \n",
       "2  gpt-3.5-turbo   1.957797   True  "
      ]
     },
     "execution_count": 4,
     "metadata": {},
     "output_type": "execute_result"
    }
   ],
   "source": [
    "def question_table(result_fn, results_fp):\n",
    "    with open(os.path.join(results_fp, result_fn)) as f:\n",
    "        data = json.load(f)\n",
    "    return pd.DataFrame(data['questions'])\n",
    "\n",
    "q_tbl = question_table(result_fns[0], results_fp)\n",
    "q_tbl.head(3)"
   ]
  },
  {
   "cell_type": "code",
   "execution_count": 5,
   "metadata": {},
   "outputs": [
    {
     "data": {
      "text/plain": [
       "{'input_name': 'JSON-state-reasoning-1',\n",
       " 'model_name': 'gpt-3.5-turbo',\n",
       " 'run_id': '5d4a'}"
      ]
     },
     "execution_count": 5,
     "metadata": {},
     "output_type": "execute_result"
    }
   ],
   "source": [
    "def sheet_table_info(result_fn, results_fp):\n",
    "    with open(os.path.join(results_fp, result_fn)) as f:\n",
    "        data = json.load(f)\n",
    "    sheet_data = data['sheet']\n",
    "    return {\n",
    "        'input_name':   sheet_data.get('name'), \n",
    "        'model_name':   sheet_data.get('model_name'), \n",
    "        'run_id':       sheet_data.get('run_id'),\n",
    "    }\n",
    "\n",
    "tbl_info = sheet_table_info(result_fns[0], results_fp)\n",
    "tbl_info"
   ]
  },
  {
   "cell_type": "code",
   "execution_count": 6,
   "metadata": {},
   "outputs": [],
   "source": [
    "def built_full_table(result_fp, result_fn):\n",
    "    q_tbl = question_table(result_fn, results_fp)\n",
    "    tbl_info = sheet_table_info(result_fn, results_fp)\n",
    "    for col_name, col_val in tbl_info.items():\n",
    "        q_tbl[col_name] = col_val\n",
    "    return q_tbl"
   ]
  },
  {
   "cell_type": "code",
   "execution_count": 7,
   "metadata": {},
   "outputs": [],
   "source": [
    "def build_data(results_fp):\n",
    "    result_fns = get_json_result_fns(results_fp)\n",
    "    tbls = []\n",
    "    for result_fn in result_fns:\n",
    "        tbls.append(built_full_table(results_fp, result_fn))\n",
    "    return pd.concat(tbls)"
   ]
  },
  {
   "cell_type": "code",
   "execution_count": 8,
   "metadata": {},
   "outputs": [],
   "source": [
    "data = build_data(results_fp)"
   ]
  },
  {
   "cell_type": "code",
   "execution_count": 9,
   "metadata": {},
   "outputs": [
    {
     "data": {
      "text/plain": [
       "(55, 11)"
      ]
     },
     "execution_count": 9,
     "metadata": {},
     "output_type": "execute_result"
    }
   ],
   "source": [
    "data.shape"
   ]
  },
  {
   "cell_type": "markdown",
   "metadata": {},
   "source": [
    "### Aggregate Query Section"
   ]
  },
  {
   "cell_type": "code",
   "execution_count": 10,
   "metadata": {},
   "outputs": [
    {
     "data": {
      "text/html": [
       "<div>\n",
       "<style scoped>\n",
       "    .dataframe tbody tr th:only-of-type {\n",
       "        vertical-align: middle;\n",
       "    }\n",
       "\n",
       "    .dataframe tbody tr th {\n",
       "        vertical-align: top;\n",
       "    }\n",
       "\n",
       "    .dataframe thead th {\n",
       "        text-align: right;\n",
       "    }\n",
       "</style>\n",
       "<table border=\"1\" class=\"dataframe\">\n",
       "  <thead>\n",
       "    <tr style=\"text-align: right;\">\n",
       "      <th></th>\n",
       "      <th>input_name</th>\n",
       "      <th>model_name</th>\n",
       "      <th>run_id</th>\n",
       "    </tr>\n",
       "  </thead>\n",
       "  <tbody>\n",
       "    <tr>\n",
       "      <th>0</th>\n",
       "      <td>JSON-state-reasoning-1</td>\n",
       "      <td>gpt-3.5-turbo</td>\n",
       "      <td>1</td>\n",
       "    </tr>\n",
       "    <tr>\n",
       "      <th>1</th>\n",
       "      <td>JSON-state-reasoning-1</td>\n",
       "      <td>gpt-4</td>\n",
       "      <td>1</td>\n",
       "    </tr>\n",
       "    <tr>\n",
       "      <th>2</th>\n",
       "      <td>JSON-state-reasoning-1</td>\n",
       "      <td>llama_13b_chat</td>\n",
       "      <td>1</td>\n",
       "    </tr>\n",
       "    <tr>\n",
       "      <th>3</th>\n",
       "      <td>Rule-QA-1</td>\n",
       "      <td>gpt-3.5-turbo</td>\n",
       "      <td>1</td>\n",
       "    </tr>\n",
       "    <tr>\n",
       "      <th>4</th>\n",
       "      <td>Rule-QA-1</td>\n",
       "      <td>gpt-4</td>\n",
       "      <td>1</td>\n",
       "    </tr>\n",
       "    <tr>\n",
       "      <th>5</th>\n",
       "      <td>Rule-QA-1</td>\n",
       "      <td>llama_13b_chat</td>\n",
       "      <td>1</td>\n",
       "    </tr>\n",
       "    <tr>\n",
       "      <th>6</th>\n",
       "      <td>What Shows Up</td>\n",
       "      <td>gpt-3.5-turbo</td>\n",
       "      <td>1</td>\n",
       "    </tr>\n",
       "    <tr>\n",
       "      <th>7</th>\n",
       "      <td>What Shows Up</td>\n",
       "      <td>gpt-4</td>\n",
       "      <td>1</td>\n",
       "    </tr>\n",
       "  </tbody>\n",
       "</table>\n",
       "</div>"
      ],
      "text/plain": [
       "               input_name      model_name  run_id\n",
       "0  JSON-state-reasoning-1   gpt-3.5-turbo       1\n",
       "1  JSON-state-reasoning-1           gpt-4       1\n",
       "2  JSON-state-reasoning-1  llama_13b_chat       1\n",
       "3               Rule-QA-1   gpt-3.5-turbo       1\n",
       "4               Rule-QA-1           gpt-4       1\n",
       "5               Rule-QA-1  llama_13b_chat       1\n",
       "6           What Shows Up   gpt-3.5-turbo       1\n",
       "7           What Shows Up           gpt-4       1"
      ]
     },
     "execution_count": 10,
     "metadata": {},
     "output_type": "execute_result"
    }
   ],
   "source": [
    "(\n",
    "    data.groupby(['input_name', 'model_name'])\n",
    "    .agg({'run_id': 'nunique'})\n",
    "    .reset_index()\n",
    "    .sort_values('run_id', ascending=False)\n",
    ")"
   ]
  },
  {
   "cell_type": "code",
   "execution_count": 11,
   "metadata": {},
   "outputs": [
    {
     "data": {
      "text/html": [
       "<div>\n",
       "<style scoped>\n",
       "    .dataframe tbody tr th:only-of-type {\n",
       "        vertical-align: middle;\n",
       "    }\n",
       "\n",
       "    .dataframe tbody tr th {\n",
       "        vertical-align: top;\n",
       "    }\n",
       "\n",
       "    .dataframe thead th {\n",
       "        text-align: right;\n",
       "    }\n",
       "</style>\n",
       "<table border=\"1\" class=\"dataframe\">\n",
       "  <thead>\n",
       "    <tr style=\"text-align: right;\">\n",
       "      <th></th>\n",
       "      <th>name</th>\n",
       "    </tr>\n",
       "    <tr>\n",
       "      <th>input_name</th>\n",
       "      <th></th>\n",
       "    </tr>\n",
       "  </thead>\n",
       "  <tbody>\n",
       "    <tr>\n",
       "      <th>JSON-state-reasoning-1</th>\n",
       "      <td>8</td>\n",
       "    </tr>\n",
       "    <tr>\n",
       "      <th>Rule-QA-1</th>\n",
       "      <td>7</td>\n",
       "    </tr>\n",
       "    <tr>\n",
       "      <th>What Shows Up</th>\n",
       "      <td>1</td>\n",
       "    </tr>\n",
       "  </tbody>\n",
       "</table>\n",
       "</div>"
      ],
      "text/plain": [
       "                        name\n",
       "input_name                  \n",
       "JSON-state-reasoning-1     8\n",
       "Rule-QA-1                  7\n",
       "What Shows Up              1"
      ]
     },
     "execution_count": 11,
     "metadata": {},
     "output_type": "execute_result"
    }
   ],
   "source": [
    "tmp = (\n",
    "    data.groupby(['input_name'])\n",
    "    .agg({'name': 'nunique'})\n",
    ")\n",
    "tmp"
   ]
  },
  {
   "cell_type": "code",
   "execution_count": 65,
   "metadata": {},
   "outputs": [
    {
     "data": {
      "text/html": [
       "<div>\n",
       "<style scoped>\n",
       "    .dataframe tbody tr th:only-of-type {\n",
       "        vertical-align: middle;\n",
       "    }\n",
       "\n",
       "    .dataframe tbody tr th {\n",
       "        vertical-align: top;\n",
       "    }\n",
       "\n",
       "    .dataframe thead th {\n",
       "        text-align: right;\n",
       "    }\n",
       "</style>\n",
       "<table border=\"1\" class=\"dataframe\">\n",
       "  <thead>\n",
       "    <tr style=\"text-align: right;\">\n",
       "      <th></th>\n",
       "      <th></th>\n",
       "    </tr>\n",
       "    <tr>\n",
       "      <th>input_name</th>\n",
       "      <th>name</th>\n",
       "    </tr>\n",
       "  </thead>\n",
       "  <tbody>\n",
       "    <tr>\n",
       "      <th rowspan=\"8\" valign=\"top\">JSON-state-reasoning-1</th>\n",
       "      <th>Reason-Current-Turn-Num</th>\n",
       "    </tr>\n",
       "    <tr>\n",
       "      <th>Reason-Letters-Guessed</th>\n",
       "    </tr>\n",
       "    <tr>\n",
       "      <th>Reason-Letters-Guessed-2</th>\n",
       "    </tr>\n",
       "    <tr>\n",
       "      <th>Reason-Win</th>\n",
       "    </tr>\n",
       "    <tr>\n",
       "      <th>Reason-Win-2</th>\n",
       "    </tr>\n",
       "    <tr>\n",
       "      <th>Reason-Win-3</th>\n",
       "    </tr>\n",
       "    <tr>\n",
       "      <th>Reason-Words-Guessed</th>\n",
       "    </tr>\n",
       "    <tr>\n",
       "      <th>Reason-Words-Guessed-2</th>\n",
       "    </tr>\n",
       "    <tr>\n",
       "      <th rowspan=\"7\" valign=\"top\">Rule-QA-1</th>\n",
       "      <th>Mechanics-Basic-Reasoning-1</th>\n",
       "    </tr>\n",
       "    <tr>\n",
       "      <th>Mechanics-Guess-Valid-Word</th>\n",
       "    </tr>\n",
       "    <tr>\n",
       "      <th>Mechanics-Multiletter-1</th>\n",
       "    </tr>\n",
       "    <tr>\n",
       "      <th>Num-Guesses-1</th>\n",
       "    </tr>\n",
       "    <tr>\n",
       "      <th>Num-Letter-1</th>\n",
       "    </tr>\n",
       "    <tr>\n",
       "      <th>Terminology-Absent-1</th>\n",
       "    </tr>\n",
       "    <tr>\n",
       "      <th>Terminology-Present-1</th>\n",
       "    </tr>\n",
       "    <tr>\n",
       "      <th>What Shows Up</th>\n",
       "      <th>Q-1</th>\n",
       "    </tr>\n",
       "  </tbody>\n",
       "</table>\n",
       "</div>"
      ],
      "text/plain": [
       "Empty DataFrame\n",
       "Columns: []\n",
       "Index: [(JSON-state-reasoning-1, Reason-Current-Turn-Num), (JSON-state-reasoning-1, Reason-Letters-Guessed), (JSON-state-reasoning-1, Reason-Letters-Guessed-2), (JSON-state-reasoning-1, Reason-Win), (JSON-state-reasoning-1, Reason-Win-2), (JSON-state-reasoning-1, Reason-Win-3), (JSON-state-reasoning-1, Reason-Words-Guessed), (JSON-state-reasoning-1, Reason-Words-Guessed-2), (Rule-QA-1, Mechanics-Basic-Reasoning-1), (Rule-QA-1, Mechanics-Guess-Valid-Word), (Rule-QA-1, Mechanics-Multiletter-1), (Rule-QA-1, Num-Guesses-1), (Rule-QA-1, Num-Letter-1), (Rule-QA-1, Terminology-Absent-1), (Rule-QA-1, Terminology-Present-1), (What Shows Up, Q-1)]"
      ]
     },
     "execution_count": 65,
     "metadata": {},
     "output_type": "execute_result"
    }
   ],
   "source": [
    "tmp = (\n",
    "    data.groupby(['input_name', 'name'])\n",
    "    .agg({'name': 'count'})\n",
    "    .drop(columns=['name'])\n",
    ")\n",
    "tmp"
   ]
  },
  {
   "cell_type": "code",
   "execution_count": 62,
   "metadata": {},
   "outputs": [
    {
     "data": {
      "text/html": [
       "<div>\n",
       "<style scoped>\n",
       "    .dataframe tbody tr th:only-of-type {\n",
       "        vertical-align: middle;\n",
       "    }\n",
       "\n",
       "    .dataframe tbody tr th {\n",
       "        vertical-align: top;\n",
       "    }\n",
       "\n",
       "    .dataframe thead th {\n",
       "        text-align: right;\n",
       "    }\n",
       "</style>\n",
       "<table border=\"1\" class=\"dataframe\">\n",
       "  <thead>\n",
       "    <tr style=\"text-align: right;\">\n",
       "      <th></th>\n",
       "      <th></th>\n",
       "      <th>num_questions</th>\n",
       "      <th>pct_correct</th>\n",
       "    </tr>\n",
       "    <tr>\n",
       "      <th>input_name</th>\n",
       "      <th>model_name</th>\n",
       "      <th></th>\n",
       "      <th></th>\n",
       "    </tr>\n",
       "  </thead>\n",
       "  <tbody>\n",
       "    <tr>\n",
       "      <th rowspan=\"2\" valign=\"top\">What Shows Up</th>\n",
       "      <th>gpt-4</th>\n",
       "      <td>1</td>\n",
       "      <td>1.00</td>\n",
       "    </tr>\n",
       "    <tr>\n",
       "      <th>gpt-3.5-turbo</th>\n",
       "      <td>1</td>\n",
       "      <td>NaN</td>\n",
       "    </tr>\n",
       "    <tr>\n",
       "      <th rowspan=\"3\" valign=\"top\">Rule-QA-1</th>\n",
       "      <th>gpt-4</th>\n",
       "      <td>8</td>\n",
       "      <td>1.00</td>\n",
       "    </tr>\n",
       "    <tr>\n",
       "      <th>gpt-3.5-turbo</th>\n",
       "      <td>8</td>\n",
       "      <td>0.38</td>\n",
       "    </tr>\n",
       "    <tr>\n",
       "      <th>llama_13b_chat</th>\n",
       "      <td>8</td>\n",
       "      <td>0.38</td>\n",
       "    </tr>\n",
       "    <tr>\n",
       "      <th rowspan=\"3\" valign=\"top\">JSON-state-reasoning-1</th>\n",
       "      <th>gpt-4</th>\n",
       "      <td>10</td>\n",
       "      <td>0.70</td>\n",
       "    </tr>\n",
       "    <tr>\n",
       "      <th>gpt-3.5-turbo</th>\n",
       "      <td>10</td>\n",
       "      <td>0.50</td>\n",
       "    </tr>\n",
       "    <tr>\n",
       "      <th>llama_13b_chat</th>\n",
       "      <td>9</td>\n",
       "      <td>0.11</td>\n",
       "    </tr>\n",
       "  </tbody>\n",
       "</table>\n",
       "</div>"
      ],
      "text/plain": [
       "                                       num_questions  pct_correct\n",
       "input_name             model_name                                \n",
       "What Shows Up          gpt-4                       1         1.00\n",
       "                       gpt-3.5-turbo               1          NaN\n",
       "Rule-QA-1              gpt-4                       8         1.00\n",
       "                       gpt-3.5-turbo               8         0.38\n",
       "                       llama_13b_chat              8         0.38\n",
       "JSON-state-reasoning-1 gpt-4                      10         0.70\n",
       "                       gpt-3.5-turbo              10         0.50\n",
       "                       llama_13b_chat              9         0.11"
      ]
     },
     "execution_count": 62,
     "metadata": {},
     "output_type": "execute_result"
    }
   ],
   "source": [
    "tmp = (\n",
    "    data.groupby(['input_name', 'model_name'])\n",
    "    .agg({'name': 'count', 'grade': 'mean'}) \n",
    "    .rename(columns={'name': 'num_questions', 'grade': 'pct_correct'})\n",
    "    .sort_values(['input_name', 'pct_correct'], ascending=False)\n",
    ")\n",
    "tmp['pct_correct'] = pd.to_numeric(tmp['pct_correct'], errors='coerce').round(2)\n",
    "tmp"
   ]
  },
  {
   "cell_type": "code",
   "execution_count": 91,
   "metadata": {},
   "outputs": [],
   "source": [
    "def model_input_results(\n",
    "    model_name,\n",
    "    input_name,\n",
    "    run_id = None, # if None, use first run_id\n",
    "):\n",
    "\n",
    "    a = (data['model_name'] == model_name)\n",
    "    b = (data['input_name'] == input_name)\n",
    "\n",
    "    run_ids = data[a & b]['run_id'].unique()\n",
    "    if run_id is None:\n",
    "        run_id = run_ids[0]\n",
    "    c = (data['run_id'] == run_id)\n",
    "\n",
    "    num_questions = data[a & b & c].shape[0]\n",
    "\n",
    "    slice_wrong = data[a & b & c & (data['grade'] == 0)]\n",
    "    num_wrong = slice_wrong.shape[0]\n",
    "    questions_wrong_name = slice_wrong['name'].tolist()\n",
    "\n",
    "    return {\n",
    "        'num_questions': num_questions,\n",
    "        'num_wrong': num_wrong,\n",
    "        'questions_wrong_name': questions_wrong_name,\n",
    "    }"
   ]
  },
  {
   "cell_type": "code",
   "execution_count": 94,
   "metadata": {},
   "outputs": [
    {
     "name": "stdout",
     "output_type": "stream",
     "text": [
      "{\n",
      "  \"num_questions\": 10,\n",
      "  \"num_wrong\": 5,\n",
      "  \"questions_wrong_name\": [\n",
      "    \"Reason-Current-Turn-Num\",\n",
      "    \"Reason-Words-Guessed-2\",\n",
      "    \"Reason-Letters-Guessed\",\n",
      "    \"Reason-Letters-Guessed\",\n",
      "    \"Reason-Letters-Guessed-2\"\n",
      "  ]\n",
      "}\n"
     ]
    }
   ],
   "source": [
    "results = model_input_results(\n",
    "    model_name = 'gpt-3.5-turbo',\n",
    "    input_name = 'JSON-state-reasoning-1',\n",
    "    run_id = None\n",
    ")\n",
    "\n",
    "print(json.dumps(results, indent=2))"
   ]
  },
  {
   "cell_type": "code",
   "execution_count": 95,
   "metadata": {},
   "outputs": [
    {
     "name": "stdout",
     "output_type": "stream",
     "text": [
      "{\n",
      "  \"gpt-3.5-turbo\": {\n",
      "    \"num_questions\": 10,\n",
      "    \"num_wrong\": 5,\n",
      "    \"questions_wrong_name\": [\n",
      "      \"Reason-Current-Turn-Num\",\n",
      "      \"Reason-Words-Guessed-2\",\n",
      "      \"Reason-Letters-Guessed\",\n",
      "      \"Reason-Letters-Guessed\",\n",
      "      \"Reason-Letters-Guessed-2\"\n",
      "    ]\n",
      "  },\n",
      "  \"gpt-4\": {\n",
      "    \"num_questions\": 10,\n",
      "    \"num_wrong\": 3,\n",
      "    \"questions_wrong_name\": [\n",
      "      \"Reason-Win-3\",\n",
      "      \"Reason-Current-Turn-Num\",\n",
      "      \"Reason-Letters-Guessed\"\n",
      "    ]\n",
      "  }\n",
      "}\n"
     ]
    }
   ],
   "source": [
    "d_results = {}\n",
    "models = ['gpt-3.5-turbo', 'gpt-4']\n",
    "for model in models:\n",
    "    d_results[model] = model_input_results(\n",
    "        model_name = model,\n",
    "        input_name = 'JSON-state-reasoning-1',\n",
    "    )\n",
    "\n",
    "print(json.dumps(d_results, indent=2))"
   ]
  },
  {
   "cell_type": "code",
   "execution_count": null,
   "metadata": {},
   "outputs": [],
   "source": []
  }
 ],
 "metadata": {
  "kernelspec": {
   "display_name": "venv",
   "language": "python",
   "name": "python3"
  },
  "language_info": {
   "codemirror_mode": {
    "name": "ipython",
    "version": 3
   },
   "file_extension": ".py",
   "mimetype": "text/x-python",
   "name": "python",
   "nbconvert_exporter": "python",
   "pygments_lexer": "ipython3",
   "version": "3.9.10"
  }
 },
 "nbformat": 4,
 "nbformat_minor": 2
}
