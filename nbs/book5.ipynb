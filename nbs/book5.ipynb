{
 "cells": [
  {
   "cell_type": "markdown",
   "metadata": {},
   "source": [
    "### Book5 - parsing question sheets to json\n",
    "```\n",
    "TODO\n",
    " [ ] handle end character of question attribute\n",
    " [ ] best way to view markdown in vscode? \n",
    "    - extension? that hotloads?\n",
    "    - react type live server?\n",
    "```"
   ]
  },
  {
   "cell_type": "code",
   "execution_count": 1,
   "metadata": {},
   "outputs": [],
   "source": [
    "import json\n",
    "import yaml"
   ]
  },
  {
   "cell_type": "code",
   "execution_count": 9,
   "metadata": {},
   "outputs": [],
   "source": [
    "fn = '../wordle-qa-1/alpha/basic.md'\n",
    "md_schema_fn = '../wordle-qa-1/alpha/md-schema.yaml'\n",
    "\n",
    "with open(fn, 'r') as f:\n",
    "    text = f.readlines()\n",
    "\n",
    "with open(md_schema_fn, 'r') as f:\n",
    "    md_schema = yaml.safe_load(f)"
   ]
  },
  {
   "cell_type": "code",
   "execution_count": 31,
   "metadata": {},
   "outputs": [],
   "source": [
    "def parse(\n",
    "    text: list, \n",
    "    d_md: dict, \n",
    "    check_name: bool = False\n",
    ") -> list:\n",
    "\n",
    "    parsed_markers = []\n",
    "    for i, line in enumerate(text):\n",
    "        for obj, md_header in d_md.items():\n",
    "            marker = \"#\" * md_header + \" \"\n",
    "            if line.startswith(marker):\n",
    "                data = line.replace(marker, \"\").strip()\n",
    "                if check_name and (data.lower() != obj): continue\n",
    "                parsed_markers.append((i, obj, data))\n",
    "\n",
    "    parsed_markers.append((len(text) + 1, None, None)) # include last line\n",
    "\n",
    "    doc_markers = [\n",
    "        {\n",
    "            'start': parsed_markers[i][0] + 1, \n",
    "            'end': parsed_markers[i+1][0] - 1, \n",
    "            'obj_type': parsed_markers[i][1],\n",
    "            'obj_name': parsed_markers[i][2]\n",
    "        }\n",
    "        for i in range(len(parsed_markers) - 1)\n",
    "    ]\n",
    "\n",
    "    return doc_markers"
   ]
  },
  {
   "cell_type": "code",
   "execution_count": 42,
   "metadata": {},
   "outputs": [],
   "source": [
    "def extract_sections(\n",
    "    text: list,\n",
    "    parsed_markers: list,\n",
    "    compress: bool = False,\n",
    ") -> list:\n",
    "    sections = []\n",
    "    for section in parsed_markers:\n",
    "        section_text = text[section['start']: section['end']]\n",
    "        if compress:\n",
    "            section_text = \"\".join(section_text)\n",
    "        sections.append({\n",
    "            'type': section['obj_type'],\n",
    "            'name': section['obj_name'],\n",
    "            'text': section_text\n",
    "        })\n",
    "    return sections"
   ]
  },
  {
   "cell_type": "code",
   "execution_count": 43,
   "metadata": {},
   "outputs": [
    {
     "data": {
      "text/plain": [
       "{'sheet': {'md_header': 1,\n",
       "  'children': {'md_header': 4, 'options': ['meta', 'templates']}},\n",
       " 'question': {'md_header': 2,\n",
       "  'children': {'md_header': 4,\n",
       "   'options': ['meta', 'answer', 'templates', 'question']}}}"
      ]
     },
     "execution_count": 43,
     "metadata": {},
     "output_type": "execute_result"
    }
   ],
   "source": [
    "md_schema"
   ]
  },
  {
   "cell_type": "code",
   "execution_count": 44,
   "metadata": {},
   "outputs": [
    {
     "name": "stdout",
     "output_type": "stream",
     "text": [
      "[\n",
      "  {\n",
      "    \"type\": \"sheet\",\n",
      "    \"name\": \"Basic Wordle Questions\",\n",
      "    \"sub_sections\": [\n",
      "      {\n",
      "        \"type\": \"meta\",\n",
      "        \"name\": \"meta\",\n",
      "        \"text\": \"This is the area\\n\"\n",
      "      }\n",
      "    ]\n",
      "  },\n",
      "  {\n",
      "    \"type\": \"question\",\n",
      "    \"name\": \"Explain-State-1\",\n",
      "    \"sub_sections\": [\n",
      "      {\n",
      "        \"type\": \"meta\",\n",
      "        \"name\": \"meta\",\n",
      "        \"text\": \" - name: Explain-State-1\\n - description: given a wordle game state, explain what we know about the game\\n - answer type: free-response, multi-question\\n - answer suggested length: 300\\n - question assets: plain-text-board, python-nyt-board\\n - prompt style: QA\\n\"\n",
      "      },\n",
      "      {\n",
      "        \"type\": \"question\",\n",
      "        \"name\": \"question\",\n",
      "        \"text\": \"Below is the state of a wordle game:\\n\\nA B O U T\\nS A L E S\\nF L A M E\\n\\u25a1 \\u25a1 \\u25a1 \\u25a1 \\u25a1\\n\\u25a1 \\u25a1 \\u25a1 \\u25a1 \\u25a1\\n\\u25a1 \\u25a1 \\u25a1 \\u25a1 \\u25a1\\n\\n[[['absent', 'a'], ['present', 'b'], ['correct', 'o'], ['absent', 'u'], ['absent', 't']], [['present', 's'], ['absent', 'a'], ['absent', 'l'], ['absent', 'e'], ['correct', 's']], [['absent', 'f'], ['absent', 'l'], ['absent', 'a'], ['absent', 'm'], ['absent', 'e']], [['empty', ''], ['empty', ''], ['empty', ''], ['empty', ''], ['empty', '']], [['empty', ''], ['empty', ''], ['empty', ''], ['empty', ''], ['empty', '']], [['empty', ''], ['empty', ''], ['empty', ''], ['empty', ''], ['empty', '']]]\\n\\nQ: What do we know about the game? Has the player won yet? What is the current turn? what words have been tried?\\n\\nA:\\n\"\n",
      "      }\n",
      "    ]\n",
      "  },\n",
      "  {\n",
      "    \"type\": \"question\",\n",
      "    \"name\": \"Better-Guess-1a\",\n",
      "    \"sub_sections\": [\n",
      "      {\n",
      "        \"type\": \"meta\",\n",
      "        \"name\": \"meta\",\n",
      "        \"text\": \" - name: Better-Guess-1a\\n - description: given a wordle game state, make the best guess from choices supplied.\\n - answer type: multiple-choice\\n - answer suggested length: 5\\n - question assets: plain-text-board, python-nyt-board\\n\"\n",
      "      },\n",
      "      {\n",
      "        \"type\": \"question\",\n",
      "        \"name\": \"question\",\n",
      "        \"text\": \"Below is the state of a wordle game:\\n\\nA B O U T\\nS A L E S\\nF L A M E\\n\\u25a1 \\u25a1 \\u25a1 \\u25a1 \\u25a1\\n\\u25a1 \\u25a1 \\u25a1 \\u25a1 \\u25a1\\n\\u25a1 \\u25a1 \\u25a1 \\u25a1 \\u25a1\\n\\n[[['absent', 'a'], ['present', 'b'], ['correct', 'o'], ['absent', 'u'], ['absent', 't']], [['present', 's'], ['absent', 'a'], ['absent', 'l'], ['absent', 'e'], ['correct', 's']], [['absent', 'f'], ['absent', 'l'], ['absent', 'a'], ['absent', 'm'], ['absent', 'e']], [['empty', ''], ['empty', ''], ['empty', ''], ['empty', ''], ['empty', '']], [['empty', ''], ['empty', ''], ['empty', ''], ['empty', ''], ['empty', '']], [['empty', ''], ['empty', ''], ['empty', ''], ['empty', ''], ['empty', '']]]\\n\\nQ: What would be a better next guess: \\\"BOOKS\\\", \\\"FLAKE\\\", or \\\"DINOSAUR\\\"?\\n\\nA: \\n\"\n",
      "      }\n",
      "    ]\n",
      "  },\n",
      "  {\n",
      "    \"type\": \"question\",\n",
      "    \"name\": \"Better-Guess-1b\",\n",
      "    \"sub_sections\": [\n",
      "      {\n",
      "        \"type\": \"meta\",\n",
      "        \"name\": \"meta\",\n",
      "        \"text\": \" - name: Better-Guess-1b\\n - description: given a wordle game state, make the best guess from choices supplied.\\n - answer type: multiple-choice\\n - answer suggested length: 5\\n - question assets: plain-text-board, python-nyt-board\\n\"\n",
      "      },\n",
      "      {\n",
      "        \"type\": \"question\",\n",
      "        \"name\": \"question\",\n",
      "        \"text\": \"Below is the state of a wordle game:\\n\\nA B O U T\\nS A L E S\\nF L A M E\\n\\u25a1 \\u25a1 \\u25a1 \\u25a1 \\u25a1\\n\\u25a1 \\u25a1 \\u25a1 \\u25a1 \\u25a1\\n\\u25a1 \\u25a1 \\u25a1 \\u25a1 \\u25a1\\n\\n[[['absent', 'a'], ['present', 'b'], ['correct', 'o'], ['absent', 'u'], ['absent', 't']], [['present', 's'], ['absent', 'a'], ['absent', 'l'], ['absent', 'e'], ['correct', 's']], [['absent', 'f'], ['absent', 'l'], ['absent', 'a'], ['absent', 'm'], ['absent', 'e']], [['empty', ''], ['empty', ''], ['empty', ''], ['empty', ''], ['empty', '']], [['empty', ''], ['empty', ''], ['empty', ''], ['empty', ''], ['empty', '']], [['empty', ''], ['empty', ''], ['empty', ''], ['empty', ''], ['empty', '']]]\\n\\nQ: What would be a better next guess: \\nA) BOOKS\\nB) FLAKE\\nC) DINOSAUR\\n\\n\"\n",
      "      }\n",
      "    ]\n",
      "  },\n",
      "  {\n",
      "    \"type\": \"question\",\n",
      "    \"name\": \"Better-Guess-2\",\n",
      "    \"sub_sections\": [\n",
      "      {\n",
      "        \"type\": \"meta\",\n",
      "        \"name\": \"meta\",\n",
      "        \"text\": \" - name: Better-Guess-2\\n - description: given a wordle game state, determine best guess and explain why.\\n - answer type: free response, multi-question\\n - answer suggested length: 300\\n - question assets: plain-text-board, python-nyt-board\\n - prompt style: QA\\n##### question\\nBelow is the state of a wordle game:\\n\\nA B O U T\\nS A L E S\\nF L A M E\\n\\u25a1 \\u25a1 \\u25a1 \\u25a1 \\u25a1\\n\\u25a1 \\u25a1 \\u25a1 \\u25a1 \\u25a1\\n\\u25a1 \\u25a1 \\u25a1 \\u25a1 \\u25a1\\n\\n[[['absent', 'a'], ['present', 'b'], ['correct', 'o'], ['absent', 'u'], ['absent', 't']], [['present', 's'], ['absent', 'a'], ['absent', 'l'], ['absent', 'e'], ['correct', 's']], [['absent', 'f'], ['absent', 'l'], ['absent', 'a'], ['absent', 'm'], ['absent', 'e']], [['empty', ''], ['empty', ''], ['empty', ''], ['empty', ''], ['empty', '']], [['empty', ''], ['empty', ''], ['empty', ''], ['empty', ''], ['empty', '']], [['empty', ''], ['empty', ''], ['empty', ''], ['empty', ''], ['empty', '']]]\\n\\nQ: What would be a better next guess: \\\"BOOKS\\\", \\\"FLAKE\\\", or \\\"DINOSAUR\\\". Why? What would be another good guess?\\n\\nA: \\n\"\n",
      "      }\n",
      "    ]\n",
      "  }\n",
      "]\n"
     ]
    }
   ],
   "source": [
    "# parse to major sections\n",
    "d_md = {obj: md_schema[obj]['md_header'] for obj in md_schema}\n",
    "parsed_markers = parse(text, d_md, check_name=False)\n",
    "major_sections = extract_sections(text, parsed_markers)\n",
    "\n",
    "# parse sub-sections\n",
    "output = []\n",
    "for section in major_sections:\n",
    "    \n",
    "    section_type = section['type']\n",
    "    d_md = {subsection_name: md_schema[section_type]['children']['md_header']\n",
    "            for subsection_name in md_schema[section_type]['children']['options']\n",
    "    }\n",
    "    \n",
    "    parsed_markers = parse(section['text'], d_md, check_name=True)\n",
    "    \n",
    "    sub_sections = extract_sections(section['text'], parsed_markers, compress=True)\n",
    "\n",
    "    # TODO - handle meta k/v parsing\n",
    "    # TODO - handle end character on question text parsing\n",
    "\n",
    "    output.append({\n",
    "        'type': section_type,\n",
    "        'name': section['name'],\n",
    "        'sub_sections': sub_sections\n",
    "    })\n",
    "\n",
    "\n",
    "print(json.dumps(output, indent=2))\n"
   ]
  },
  {
   "cell_type": "code",
   "execution_count": null,
   "metadata": {},
   "outputs": [],
   "source": []
  },
  {
   "cell_type": "code",
   "execution_count": null,
   "metadata": {},
   "outputs": [],
   "source": []
  },
  {
   "cell_type": "markdown",
   "metadata": {},
   "source": [
    "### Using `markdown` and `BeautifulSoup` to extract text from HTML"
   ]
  },
  {
   "cell_type": "code",
   "execution_count": null,
   "metadata": {},
   "outputs": [],
   "source": [
    "import markdown\n",
    "from bs4 import BeautifulSoup"
   ]
  },
  {
   "cell_type": "code",
   "execution_count": null,
   "metadata": {},
   "outputs": [],
   "source": [
    "html_content = markdown.markdown(markdown_content)\n",
    "soup = BeautifulSoup(html_content, 'html.parser')"
   ]
  },
  {
   "cell_type": "code",
   "execution_count": 4,
   "metadata": {},
   "outputs": [
    {
     "name": "stdout",
     "output_type": "stream",
     "text": [
      "<h1>Basic Wordle Questions</h1>\n",
      "<p>Written 11.18.23\n",
      "These are to get a baseline on LLM capabilities.</p>\n",
      "<h2>Metadata</h2>\n",
      "<h3>Explain-State-1</h3>\n",
      "<h4>meta</h4>\n",
      "<ul>\n",
      "<li>name: Explain-State-1</li>\n",
      "<li>description: given a wordle game state, explain what we know about the game</li>\n",
      "<li>answer type: free response, multi-question</li>\n",
      "<li>answer suggested length: 300</li>\n",
      "<li>question assets: plain-text-board, python-nyt-board</li>\n",
      "<li>prompt style: QA</li>\n",
      "</ul>\n",
      "<h5>question</h5>\n",
      "<p>Below is the state of a wordle game:</p>\n",
      "<p>A B O U T\n",
      "S A L E S\n",
      "F L A M E\n",
      "□ □ □ □ □\n",
      "□ □ □ □ □\n",
      "□ □ □ □ □</p>\n",
      "<p>[[['absent', 'a'], ['present', 'b'], ['correct', 'o'], ['absent', 'u'], ['absent', 't']], [['present', 's'], ['absent', 'a'], ['absent', 'l'], ['absent', 'e'], ['correct', 's']], [['absent', 'f'], ['absent', 'l'], ['absent', 'a'], ['absent', 'm'], ['absent', 'e']], [['empty', ''], ['empty', ''], ['empty', ''], ['empty', ''], ['empty', '']], [['empty', ''], ['empty', ''], ['empty', ''], ['empty', ''], ['empty', '']], [['empty', ''], ['empty', ''], ['empty', ''], ['empty', ''], ['empty', '']]]</p>\n",
      "<p>Q: What do we know about the game? Has the player won yet? What is the current turn? what words have been tried?</p>\n",
      "<p>A:</p>\n",
      "<h3>Better-Guess-1a</h3>\n",
      "<h4>meta</h4>\n",
      "<ul>\n",
      "<li>name: Better-Guess-1a</li>\n",
      "<li>description: given a wordle game state, make the best guess from choices supplied.</li>\n",
      "<li>answer type: multiple-choice</li>\n",
      "<li>answer suggested length: 5</li>\n",
      "<li>question assets: plain-text-board, python-nyt-board</li>\n",
      "<li>prompt style: QA, implicit-multiple-choice </li>\n",
      "</ul>\n",
      "<h5>question</h5>\n",
      "<p>Below is the state of a wordle game:</p>\n",
      "<p>A B O U T\n",
      "S A L E S\n",
      "F L A M E\n",
      "□ □ □ □ □\n",
      "□ □ □ □ □\n",
      "□ □ □ □ □</p>\n",
      "<p>[[['absent', 'a'], ['present', 'b'], ['correct', 'o'], ['absent', 'u'], ['absent', 't']], [['present', 's'], ['absent', 'a'], ['absent', 'l'], ['absent', 'e'], ['correct', 's']], [['absent', 'f'], ['absent', 'l'], ['absent', 'a'], ['absent', 'm'], ['absent', 'e']], [['empty', ''], ['empty', ''], ['empty', ''], ['empty', ''], ['empty', '']], [['empty', ''], ['empty', ''], ['empty', ''], ['empty', ''], ['empty', '']], [['empty', ''], ['empty', ''], ['empty', ''], ['empty', ''], ['empty', '']]]</p>\n",
      "<p>Q: What would be a better next guess: \"BOOKS\", \"FLAKE\", or \"DINOSAUR\".</p>\n",
      "<p>A: </p>\n",
      "<h3>Better-Guess-1b</h3>\n",
      "<h4>meta</h4>\n",
      "<ul>\n",
      "<li>name: Better-Guess-1b</li>\n",
      "<li>description: given a wordle game state, make the best guess from choices supplied.</li>\n",
      "<li>answer type: multiple-choice</li>\n",
      "<li>answer suggested length: 5</li>\n",
      "<li>question assets: plain-text-board, python-nyt-board</li>\n",
      "<li>prompt style: multiple-choice </li>\n",
      "</ul>\n",
      "<h5>question</h5>\n",
      "<p>Below is the state of a wordle game:</p>\n",
      "<p>A B O U T\n",
      "S A L E S\n",
      "F L A M E\n",
      "□ □ □ □ □\n",
      "□ □ □ □ □\n",
      "□ □ □ □ □</p>\n",
      "<p>[[['absent', 'a'], ['present', 'b'], ['correct', 'o'], ['absent', 'u'], ['absent', 't']], [['present', 's'], ['absent', 'a'], ['absent', 'l'], ['absent', 'e'], ['correct', 's']], [['absent', 'f'], ['absent', 'l'], ['absent', 'a'], ['absent', 'm'], ['absent', 'e']], [['empty', ''], ['empty', ''], ['empty', ''], ['empty', ''], ['empty', '']], [['empty', ''], ['empty', ''], ['empty', ''], ['empty', ''], ['empty', '']], [['empty', ''], ['empty', ''], ['empty', ''], ['empty', ''], ['empty', '']]]</p>\n",
      "<p>Q: What would be a better next guess: \n",
      "A) BOOKS\n",
      "B) FLAKE\n",
      "C) DINOSAUR</p>\n",
      "<h3>Better-Guess-2</h3>\n",
      "<h4>meta</h4>\n",
      "<ul>\n",
      "<li>name: Better-Guess-2</li>\n",
      "<li>description: given a wordle game state, determine best guess and explain why.</li>\n",
      "<li>answer type: free response, multi-question</li>\n",
      "<li>answer suggested length: 300</li>\n",
      "<li>question assets: plain-text-board, python-nyt-board</li>\n",
      "<li>prompt style: QA</li>\n",
      "</ul>\n",
      "<h5>question</h5>\n",
      "<p>Below is the state of a wordle game:</p>\n",
      "<p>A B O U T\n",
      "S A L E S\n",
      "F L A M E\n",
      "□ □ □ □ □\n",
      "□ □ □ □ □\n",
      "□ □ □ □ □</p>\n",
      "<p>[[['absent', 'a'], ['present', 'b'], ['correct', 'o'], ['absent', 'u'], ['absent', 't']], [['present', 's'], ['absent', 'a'], ['absent', 'l'], ['absent', 'e'], ['correct', 's']], [['absent', 'f'], ['absent', 'l'], ['absent', 'a'], ['absent', 'm'], ['absent', 'e']], [['empty', ''], ['empty', ''], ['empty', ''], ['empty', ''], ['empty', '']], [['empty', ''], ['empty', ''], ['empty', ''], ['empty', ''], ['empty', '']], [['empty', ''], ['empty', ''], ['empty', ''], ['empty', ''], ['empty', '']]]</p>\n",
      "<p>Q: What would be a better next guess: \"BOOKS\", \"FLAKE\", or \"DINOSAUR\". Why? What would be another good guess?</p>\n",
      "<p>A: </p>\n"
     ]
    }
   ],
   "source": [
    "print(html_content)"
   ]
  },
  {
   "cell_type": "code",
   "execution_count": 15,
   "metadata": {},
   "outputs": [],
   "source": [
    "children = list(soup.children)"
   ]
  },
  {
   "cell_type": "code",
   "execution_count": 18,
   "metadata": {},
   "outputs": [],
   "source": [
    "all_children = soup.children"
   ]
  },
  {
   "cell_type": "code",
   "execution_count": 17,
   "metadata": {},
   "outputs": [
    {
     "data": {
      "text/plain": [
       "[<h1>Basic Wordle Questions</h1>,\n",
       " '\\n',\n",
       " <p>Written 11.18.23\n",
       " These are to get a baseline on LLM capabilities.</p>]"
      ]
     },
     "execution_count": 17,
     "metadata": {},
     "output_type": "execute_result"
    }
   ],
   "source": [
    "children."
   ]
  },
  {
   "cell_type": "code",
   "execution_count": 12,
   "metadata": {},
   "outputs": [
    {
     "name": "stdout",
     "output_type": "stream",
     "text": [
      "h1\n",
      "None\n",
      "p\n",
      "None\n",
      "h2\n",
      "None\n",
      "h3\n",
      "None\n",
      "h4\n",
      "None\n",
      "ul\n",
      "None\n",
      "h5\n",
      "None\n",
      "p\n",
      "None\n",
      "p\n",
      "None\n",
      "p\n",
      "None\n",
      "p\n",
      "None\n",
      "p\n",
      "None\n",
      "h3\n",
      "None\n",
      "h4\n",
      "None\n",
      "ul\n",
      "None\n",
      "h5\n",
      "None\n",
      "p\n",
      "None\n",
      "p\n",
      "None\n",
      "p\n",
      "None\n",
      "p\n",
      "None\n",
      "p\n",
      "None\n",
      "h3\n",
      "None\n",
      "h4\n",
      "None\n",
      "ul\n",
      "None\n",
      "h5\n",
      "None\n",
      "p\n",
      "None\n",
      "p\n",
      "None\n",
      "p\n",
      "None\n",
      "p\n",
      "None\n",
      "h3\n",
      "None\n",
      "h4\n",
      "None\n",
      "ul\n",
      "None\n",
      "h5\n",
      "None\n",
      "p\n",
      "None\n",
      "p\n",
      "None\n",
      "p\n",
      "None\n",
      "p\n",
      "None\n",
      "p\n"
     ]
    }
   ],
   "source": [
    "for elem in :\n",
    "    print(elem.name)"
   ]
  },
  {
   "cell_type": "code",
   "execution_count": 5,
   "metadata": {},
   "outputs": [],
   "source": [
    "def extract_text_between_headings(soup):\n",
    "    data = {}\n",
    "    current_h3 = None\n",
    "    current_h4_h5 = None\n",
    "    text_buffer = ''\n",
    "\n",
    "    for elem in soup.children:\n",
    "        if elem.name == 'h3':\n",
    "            if current_h3:\n",
    "                if current_h4_h5:\n",
    "                    data[current_h3][current_h4_h5] = text_buffer\n",
    "                else:\n",
    "                    data[current_h3] = text_buffer\n",
    "            current_h3 = elem.text.strip()\n",
    "            current_h4_h5 = None\n",
    "            text_buffer = ''\n",
    "            data[current_h3] = {}\n",
    "        elif elem.name in ['h4', 'h5']:\n",
    "            if current_h4_h5 and text_buffer:\n",
    "                data[current_h3][current_h4_h5] = text_buffer\n",
    "            current_h4_h5 = elem.text.strip()\n",
    "            text_buffer = ''\n",
    "        elif elem.name == 'p':\n",
    "            text_buffer += elem.text.strip() + '\\n'\n",
    "\n",
    "    # Add the last section\n",
    "    if current_h3:\n",
    "        if current_h4_h5:\n",
    "            data[current_h3][current_h4_h5] = text_buffer\n",
    "        elif text_buffer:\n",
    "            data[current_h3] = text_buffer\n",
    "\n",
    "    return data\n"
   ]
  },
  {
   "cell_type": "code",
   "execution_count": 6,
   "metadata": {},
   "outputs": [],
   "source": [
    "\n",
    "# Extract text between headings\n",
    "extracted_data = extract_text_between_headings(soup)\n"
   ]
  },
  {
   "cell_type": "code",
   "execution_count": 10,
   "metadata": {},
   "outputs": [
    {
     "name": "stdout",
     "output_type": "stream",
     "text": [
      "{\n",
      "  \"Explain-State-1\": {\n",
      "    \"question\": \"Below is the state of a wordle game:\\nA B O U T\\nS A L E S\\nF L A M E\\n\\u25a1 \\u25a1 \\u25a1 \\u25a1 \\u25a1\\n\\u25a1 \\u25a1 \\u25a1 \\u25a1 \\u25a1\\n\\u25a1 \\u25a1 \\u25a1 \\u25a1 \\u25a1\\n[[['absent', 'a'], ['present', 'b'], ['correct', 'o'], ['absent', 'u'], ['absent', 't']], [['present', 's'], ['absent', 'a'], ['absent', 'l'], ['absent', 'e'], ['correct', 's']], [['absent', 'f'], ['absent', 'l'], ['absent', 'a'], ['absent', 'm'], ['absent', 'e']], [['empty', ''], ['empty', ''], ['empty', ''], ['empty', ''], ['empty', '']], [['empty', ''], ['empty', ''], ['empty', ''], ['empty', ''], ['empty', '']], [['empty', ''], ['empty', ''], ['empty', ''], ['empty', ''], ['empty', '']]]\\nQ: What do we know about the game? Has the player won yet? What is the current turn? what words have been tried?\\nA:\\n\"\n",
      "  },\n",
      "  \"Better-Guess-1a\": {\n",
      "    \"question\": \"Below is the state of a wordle game:\\nA B O U T\\nS A L E S\\nF L A M E\\n\\u25a1 \\u25a1 \\u25a1 \\u25a1 \\u25a1\\n\\u25a1 \\u25a1 \\u25a1 \\u25a1 \\u25a1\\n\\u25a1 \\u25a1 \\u25a1 \\u25a1 \\u25a1\\n[[['absent', 'a'], ['present', 'b'], ['correct', 'o'], ['absent', 'u'], ['absent', 't']], [['present', 's'], ['absent', 'a'], ['absent', 'l'], ['absent', 'e'], ['correct', 's']], [['absent', 'f'], ['absent', 'l'], ['absent', 'a'], ['absent', 'm'], ['absent', 'e']], [['empty', ''], ['empty', ''], ['empty', ''], ['empty', ''], ['empty', '']], [['empty', ''], ['empty', ''], ['empty', ''], ['empty', ''], ['empty', '']], [['empty', ''], ['empty', ''], ['empty', ''], ['empty', ''], ['empty', '']]]\\nQ: What would be a better next guess: \\\"BOOKS\\\", \\\"FLAKE\\\", or \\\"DINOSAUR\\\".\\nA:\\n\"\n",
      "  },\n",
      "  \"Better-Guess-1b\": {\n",
      "    \"question\": \"Below is the state of a wordle game:\\nA B O U T\\nS A L E S\\nF L A M E\\n\\u25a1 \\u25a1 \\u25a1 \\u25a1 \\u25a1\\n\\u25a1 \\u25a1 \\u25a1 \\u25a1 \\u25a1\\n\\u25a1 \\u25a1 \\u25a1 \\u25a1 \\u25a1\\n[[['absent', 'a'], ['present', 'b'], ['correct', 'o'], ['absent', 'u'], ['absent', 't']], [['present', 's'], ['absent', 'a'], ['absent', 'l'], ['absent', 'e'], ['correct', 's']], [['absent', 'f'], ['absent', 'l'], ['absent', 'a'], ['absent', 'm'], ['absent', 'e']], [['empty', ''], ['empty', ''], ['empty', ''], ['empty', ''], ['empty', '']], [['empty', ''], ['empty', ''], ['empty', ''], ['empty', ''], ['empty', '']], [['empty', ''], ['empty', ''], ['empty', ''], ['empty', ''], ['empty', '']]]\\nQ: What would be a better next guess: \\nA) BOOKS\\nB) FLAKE\\nC) DINOSAUR\\n\"\n",
      "  },\n",
      "  \"Better-Guess-2\": {\n",
      "    \"question\": \"Below is the state of a wordle game:\\nA B O U T\\nS A L E S\\nF L A M E\\n\\u25a1 \\u25a1 \\u25a1 \\u25a1 \\u25a1\\n\\u25a1 \\u25a1 \\u25a1 \\u25a1 \\u25a1\\n\\u25a1 \\u25a1 \\u25a1 \\u25a1 \\u25a1\\n[[['absent', 'a'], ['present', 'b'], ['correct', 'o'], ['absent', 'u'], ['absent', 't']], [['present', 's'], ['absent', 'a'], ['absent', 'l'], ['absent', 'e'], ['correct', 's']], [['absent', 'f'], ['absent', 'l'], ['absent', 'a'], ['absent', 'm'], ['absent', 'e']], [['empty', ''], ['empty', ''], ['empty', ''], ['empty', ''], ['empty', '']], [['empty', ''], ['empty', ''], ['empty', ''], ['empty', ''], ['empty', '']], [['empty', ''], ['empty', ''], ['empty', ''], ['empty', ''], ['empty', '']]]\\nQ: What would be a better next guess: \\\"BOOKS\\\", \\\"FLAKE\\\", or \\\"DINOSAUR\\\". Why? What would be another good guess?\\nA:\\n\"\n",
      "  }\n",
      "}\n"
     ]
    }
   ],
   "source": [
    "import json\n",
    "print(json.dumps(extracted_data, indent=2))"
   ]
  },
  {
   "cell_type": "code",
   "execution_count": 11,
   "metadata": {},
   "outputs": [
    {
     "name": "stdout",
     "output_type": "stream",
     "text": [
      "Explain-State-1: {'question': \"Below is the state of a wordle game:\\nA B O U T\\nS A L E S\\nF L A M E\\n□ □ □ □ □\\n□ □ □ □ □\\n□ □ □ □ □\\n[[['absent', 'a'], ['present', 'b'], ['correct', 'o'], ['absent', 'u'], ['absent', 't']], [['present', 's'], ['absent', 'a'], ['absent', 'l'], ['absent', 'e'], ['correct', 's']], [['absent', 'f'], ['absent', 'l'], ['absent', 'a'], ['absent', 'm'], ['absent', 'e']], [['empty', ''], ['empty', ''], ['empty', ''], ['empty', ''], ['empty', '']], [['empty', ''], ['empty', ''], ['empty', ''], ['empty', ''], ['empty', '']], [['empty', ''], ['empty', ''], ['empty', ''], ['empty', ''], ['empty', '']]]\\nQ: What do we know about the game? Has the player won yet? What is the current turn? what words have been tried?\\nA:\\n\"}\n",
      "Better-Guess-1a: {'question': 'Below is the state of a wordle game:\\nA B O U T\\nS A L E S\\nF L A M E\\n□ □ □ □ □\\n□ □ □ □ □\\n□ □ □ □ □\\n[[[\\'absent\\', \\'a\\'], [\\'present\\', \\'b\\'], [\\'correct\\', \\'o\\'], [\\'absent\\', \\'u\\'], [\\'absent\\', \\'t\\']], [[\\'present\\', \\'s\\'], [\\'absent\\', \\'a\\'], [\\'absent\\', \\'l\\'], [\\'absent\\', \\'e\\'], [\\'correct\\', \\'s\\']], [[\\'absent\\', \\'f\\'], [\\'absent\\', \\'l\\'], [\\'absent\\', \\'a\\'], [\\'absent\\', \\'m\\'], [\\'absent\\', \\'e\\']], [[\\'empty\\', \\'\\'], [\\'empty\\', \\'\\'], [\\'empty\\', \\'\\'], [\\'empty\\', \\'\\'], [\\'empty\\', \\'\\']], [[\\'empty\\', \\'\\'], [\\'empty\\', \\'\\'], [\\'empty\\', \\'\\'], [\\'empty\\', \\'\\'], [\\'empty\\', \\'\\']], [[\\'empty\\', \\'\\'], [\\'empty\\', \\'\\'], [\\'empty\\', \\'\\'], [\\'empty\\', \\'\\'], [\\'empty\\', \\'\\']]]\\nQ: What would be a better next guess: \"BOOKS\", \"FLAKE\", or \"DINOSAUR\".\\nA:\\n'}\n",
      "Better-Guess-1b: {'question': \"Below is the state of a wordle game:\\nA B O U T\\nS A L E S\\nF L A M E\\n□ □ □ □ □\\n□ □ □ □ □\\n□ □ □ □ □\\n[[['absent', 'a'], ['present', 'b'], ['correct', 'o'], ['absent', 'u'], ['absent', 't']], [['present', 's'], ['absent', 'a'], ['absent', 'l'], ['absent', 'e'], ['correct', 's']], [['absent', 'f'], ['absent', 'l'], ['absent', 'a'], ['absent', 'm'], ['absent', 'e']], [['empty', ''], ['empty', ''], ['empty', ''], ['empty', ''], ['empty', '']], [['empty', ''], ['empty', ''], ['empty', ''], ['empty', ''], ['empty', '']], [['empty', ''], ['empty', ''], ['empty', ''], ['empty', ''], ['empty', '']]]\\nQ: What would be a better next guess: \\nA) BOOKS\\nB) FLAKE\\nC) DINOSAUR\\n\"}\n",
      "Better-Guess-2: {'question': 'Below is the state of a wordle game:\\nA B O U T\\nS A L E S\\nF L A M E\\n□ □ □ □ □\\n□ □ □ □ □\\n□ □ □ □ □\\n[[[\\'absent\\', \\'a\\'], [\\'present\\', \\'b\\'], [\\'correct\\', \\'o\\'], [\\'absent\\', \\'u\\'], [\\'absent\\', \\'t\\']], [[\\'present\\', \\'s\\'], [\\'absent\\', \\'a\\'], [\\'absent\\', \\'l\\'], [\\'absent\\', \\'e\\'], [\\'correct\\', \\'s\\']], [[\\'absent\\', \\'f\\'], [\\'absent\\', \\'l\\'], [\\'absent\\', \\'a\\'], [\\'absent\\', \\'m\\'], [\\'absent\\', \\'e\\']], [[\\'empty\\', \\'\\'], [\\'empty\\', \\'\\'], [\\'empty\\', \\'\\'], [\\'empty\\', \\'\\'], [\\'empty\\', \\'\\']], [[\\'empty\\', \\'\\'], [\\'empty\\', \\'\\'], [\\'empty\\', \\'\\'], [\\'empty\\', \\'\\'], [\\'empty\\', \\'\\']], [[\\'empty\\', \\'\\'], [\\'empty\\', \\'\\'], [\\'empty\\', \\'\\'], [\\'empty\\', \\'\\'], [\\'empty\\', \\'\\']]]\\nQ: What would be a better next guess: \"BOOKS\", \"FLAKE\", or \"DINOSAUR\". Why? What would be another good guess?\\nA:\\n'}\n"
     ]
    }
   ],
   "source": [
    "\n",
    "# Print or process the extracted data\n",
    "for key, value in extracted_data.items():\n",
    "    print(f'{key}: {value}')"
   ]
  },
  {
   "cell_type": "code",
   "execution_count": 42,
   "metadata": {},
   "outputs": [
    {
     "name": "stdout",
     "output_type": "stream",
     "text": [
      "<h3>Explain-State-1</h3>\n",
      "\n",
      "\n",
      "------\n",
      "<h3>Better-Guess-1a</h3>\n",
      "\n",
      "\n",
      "------\n",
      "<h3>Better-Guess-1b</h3>\n",
      "\n",
      "\n",
      "------\n",
      "<h3>Better-Guess-2</h3>\n",
      "\n",
      "\n",
      "------\n"
     ]
    }
   ],
   "source": [
    "def extract_questions_and_metadata(soup):\n",
    "    questions = []\n",
    "    # for header in soup.find_all(['h3', 'h4', 'h5', 'h6']):\n",
    "    for header in soup.find_all(['h3']):\n",
    "        question_data = {'title': header.text.strip()}\n",
    "        next_node = header.next_sibling\n",
    "        print(header)\n",
    "        print(next_node.text)\n",
    "        print('------')\n",
    "        # while next_node and next_node.name != header.name:\n",
    "        #     print(next_node.name)\n",
    "        #     next_node = next_node.next_sibling\n",
    "\n",
    "extract_questions_and_metadata(soup)\n"
   ]
  },
  {
   "cell_type": "code",
   "execution_count": null,
   "metadata": {},
   "outputs": [
    {
     "name": "stdout",
     "output_type": "stream",
     "text": [
      "<h3>Explain-State-1</h3>\n",
      "\n",
      "\n",
      "------\n",
      "<h3>Better-Guess-1a</h3>\n",
      "\n",
      "\n",
      "------\n",
      "<h3>Better-Guess-1b</h3>\n",
      "\n",
      "\n",
      "------\n",
      "<h3>Better-Guess-2</h3>\n",
      "\n",
      "\n",
      "------\n"
     ]
    }
   ],
   "source": [
    "def extract_questions_and_metadata(soup):\n",
    "    questions = []\n",
    "    # for header in soup.find_all(['h3', 'h4', 'h5', 'h6']):\n",
    "    for header in soup.find_all(['h3']):\n",
    "        question_data = {'title': header.text.strip()}\n",
    "        next_node = header.next_sibling\n",
    "        print(header)\n",
    "        print(next_node.text)\n",
    "        print('------')\n",
    "        # while next_node and next_node.name != header.name:\n",
    "        #     print(next_node.name)\n",
    "        #     next_node = next_node.next_sibling\n",
    "\n",
    "extract_questions_and_metadata(soup)\n"
   ]
  },
  {
   "cell_type": "code",
   "execution_count": 32,
   "metadata": {},
   "outputs": [],
   "source": [
    "def extract_questions_and_metadata(soup):\n",
    "    questions = []\n",
    "    for header in soup.find_all(['h3', 'h4', 'h5', 'h6']):\n",
    "        question_data = {'title': header.text.strip()}\n",
    "        next_node = header.next_sibling\n",
    "\n",
    "        while next_node and next_node.name != header.name:\n",
    "            if next_node.name == 'ul':\n",
    "                metadata = [li.text.strip() for li in next_node.find_all('li')]\n",
    "                question_data['metadata'] = metadata\n",
    "            if next_node.name == 'p': \n",
    "                question = [p.text.strip() for p in next_node.find_all('p')]\n",
    "                question_data['question'] = \"\\n\".join(question)\n",
    "            next_node = next_node.next_sibling\n",
    "\n",
    "        questions.append(question_data)\n",
    "    return questions\n"
   ]
  },
  {
   "cell_type": "code",
   "execution_count": 34,
   "metadata": {},
   "outputs": [],
   "source": [
    "extracted_data = extract_questions_and_metadata(soup)\n"
   ]
  },
  {
   "cell_type": "code",
   "execution_count": 35,
   "metadata": {},
   "outputs": [
    {
     "data": {
      "text/plain": [
       "[{'title': 'Explain-State-1',\n",
       "  'metadata': ['name: Explain-State-1',\n",
       "   'description: given a wordle game state, explain what we know about the game',\n",
       "   'answer type: free response, multi-question',\n",
       "   'answer suggested length: 300',\n",
       "   'question assets: plain-text-board, python-nyt-board',\n",
       "   'prompt style: QA'],\n",
       "  'question': ''},\n",
       " {'title': 'meta',\n",
       "  'metadata': ['name: Explain-State-1',\n",
       "   'description: given a wordle game state, explain what we know about the game',\n",
       "   'answer type: free response, multi-question',\n",
       "   'answer suggested length: 300',\n",
       "   'question assets: plain-text-board, python-nyt-board',\n",
       "   'prompt style: QA'],\n",
       "  'question': ''},\n",
       " {'title': 'question',\n",
       "  'question': '',\n",
       "  'metadata': ['name: Better-Guess-1a',\n",
       "   'description: given a wordle game state, make the best guess from choices supplied.',\n",
       "   'answer type: multiple-choice',\n",
       "   'answer suggested length: 5',\n",
       "   'question assets: plain-text-board, python-nyt-board',\n",
       "   'prompt style: QA, implicit-multiple-choice']},\n",
       " {'title': 'Better-Guess-1a',\n",
       "  'metadata': ['name: Better-Guess-1a',\n",
       "   'description: given a wordle game state, make the best guess from choices supplied.',\n",
       "   'answer type: multiple-choice',\n",
       "   'answer suggested length: 5',\n",
       "   'question assets: plain-text-board, python-nyt-board',\n",
       "   'prompt style: QA, implicit-multiple-choice'],\n",
       "  'question': ''},\n",
       " {'title': 'meta',\n",
       "  'metadata': ['name: Better-Guess-1a',\n",
       "   'description: given a wordle game state, make the best guess from choices supplied.',\n",
       "   'answer type: multiple-choice',\n",
       "   'answer suggested length: 5',\n",
       "   'question assets: plain-text-board, python-nyt-board',\n",
       "   'prompt style: QA, implicit-multiple-choice'],\n",
       "  'question': ''},\n",
       " {'title': 'question',\n",
       "  'question': '',\n",
       "  'metadata': ['name: Better-Guess-1b',\n",
       "   'description: given a wordle game state, make the best guess from choices supplied.',\n",
       "   'answer type: multiple-choice',\n",
       "   'answer suggested length: 5',\n",
       "   'question assets: plain-text-board, python-nyt-board',\n",
       "   'prompt style: multiple-choice']},\n",
       " {'title': 'Better-Guess-1b',\n",
       "  'metadata': ['name: Better-Guess-1b',\n",
       "   'description: given a wordle game state, make the best guess from choices supplied.',\n",
       "   'answer type: multiple-choice',\n",
       "   'answer suggested length: 5',\n",
       "   'question assets: plain-text-board, python-nyt-board',\n",
       "   'prompt style: multiple-choice'],\n",
       "  'question': ''},\n",
       " {'title': 'meta',\n",
       "  'metadata': ['name: Better-Guess-1b',\n",
       "   'description: given a wordle game state, make the best guess from choices supplied.',\n",
       "   'answer type: multiple-choice',\n",
       "   'answer suggested length: 5',\n",
       "   'question assets: plain-text-board, python-nyt-board',\n",
       "   'prompt style: multiple-choice'],\n",
       "  'question': ''},\n",
       " {'title': 'question',\n",
       "  'question': '',\n",
       "  'metadata': ['name: Better-Guess-2',\n",
       "   'description: given a wordle game state, determine best guess and explain why.',\n",
       "   'answer type: free response, multi-question',\n",
       "   'answer suggested length: 300',\n",
       "   'question assets: plain-text-board, python-nyt-board',\n",
       "   'prompt style: QA']},\n",
       " {'title': 'Better-Guess-2',\n",
       "  'metadata': ['name: Better-Guess-2',\n",
       "   'description: given a wordle game state, determine best guess and explain why.',\n",
       "   'answer type: free response, multi-question',\n",
       "   'answer suggested length: 300',\n",
       "   'question assets: plain-text-board, python-nyt-board',\n",
       "   'prompt style: QA'],\n",
       "  'question': ''},\n",
       " {'title': 'meta',\n",
       "  'metadata': ['name: Better-Guess-2',\n",
       "   'description: given a wordle game state, determine best guess and explain why.',\n",
       "   'answer type: free response, multi-question',\n",
       "   'answer suggested length: 300',\n",
       "   'question assets: plain-text-board, python-nyt-board',\n",
       "   'prompt style: QA'],\n",
       "  'question': ''},\n",
       " {'title': 'question', 'question': ''}]"
      ]
     },
     "execution_count": 35,
     "metadata": {},
     "output_type": "execute_result"
    }
   ],
   "source": [
    "extracted_data"
   ]
  },
  {
   "cell_type": "code",
   "execution_count": 27,
   "metadata": {},
   "outputs": [],
   "source": [
    "def extract_questions_and_metadata(soup):\n",
    "    questions = []\n",
    "    for header in soup.find_all(['h3', 'h4', 'h5', 'h6']):\n",
    "        if header.text.strip().lower() == 'question':\n",
    "            question_data = {'title': header.text.strip()}\n",
    "            question_text = ''\n",
    "            next_node = header.next_sibling\n",
    "\n",
    "            # Traverse siblings of the header to gather question text\n",
    "            while next_node and (next_node.name != 'h3' and next_node.name != 'h4' and next_node.name != 'h5' and next_node.name != 'h6'):\n",
    "                if next_node.name == 'p':\n",
    "                    if next_node.text.strip() == 'A:':\n",
    "                        break\n",
    "                    question_text += next_node.text.strip() + '\\n'\n",
    "                next_node = next_node.next_sibling\n",
    "\n",
    "            question_data['question'] = question_text\n",
    "            questions.append(question_data)\n",
    "    return questions"
   ]
  },
  {
   "cell_type": "code",
   "execution_count": 28,
   "metadata": {},
   "outputs": [],
   "source": [
    "extracted_data = extract_questions_and_metadata(soup)"
   ]
  },
  {
   "cell_type": "code",
   "execution_count": 29,
   "metadata": {},
   "outputs": [
    {
     "data": {
      "text/plain": [
       "[{'title': 'question',\n",
       "  'question': \"Below is the state of a wordle game:\\nA B O U T\\nS A L E S\\nF L A M E\\n□ □ □ □ □\\n□ □ □ □ □\\n□ □ □ □ □\\n[[['absent', 'a'], ['present', 'b'], ['correct', 'o'], ['absent', 'u'], ['absent', 't']], [['present', 's'], ['absent', 'a'], ['absent', 'l'], ['absent', 'e'], ['correct', 's']], [['absent', 'f'], ['absent', 'l'], ['absent', 'a'], ['absent', 'm'], ['absent', 'e']], [['empty', ''], ['empty', ''], ['empty', ''], ['empty', ''], ['empty', '']], [['empty', ''], ['empty', ''], ['empty', ''], ['empty', ''], ['empty', '']], [['empty', ''], ['empty', ''], ['empty', ''], ['empty', ''], ['empty', '']]]\\nQ: What do we know about the game? Has the player won yet? What is the current turn? what words have been tried?\\n\"},\n",
       " {'title': 'question',\n",
       "  'question': 'Below is the state of a wordle game:\\nA B O U T\\nS A L E S\\nF L A M E\\n□ □ □ □ □\\n□ □ □ □ □\\n□ □ □ □ □\\n[[[\\'absent\\', \\'a\\'], [\\'present\\', \\'b\\'], [\\'correct\\', \\'o\\'], [\\'absent\\', \\'u\\'], [\\'absent\\', \\'t\\']], [[\\'present\\', \\'s\\'], [\\'absent\\', \\'a\\'], [\\'absent\\', \\'l\\'], [\\'absent\\', \\'e\\'], [\\'correct\\', \\'s\\']], [[\\'absent\\', \\'f\\'], [\\'absent\\', \\'l\\'], [\\'absent\\', \\'a\\'], [\\'absent\\', \\'m\\'], [\\'absent\\', \\'e\\']], [[\\'empty\\', \\'\\'], [\\'empty\\', \\'\\'], [\\'empty\\', \\'\\'], [\\'empty\\', \\'\\'], [\\'empty\\', \\'\\']], [[\\'empty\\', \\'\\'], [\\'empty\\', \\'\\'], [\\'empty\\', \\'\\'], [\\'empty\\', \\'\\'], [\\'empty\\', \\'\\']], [[\\'empty\\', \\'\\'], [\\'empty\\', \\'\\'], [\\'empty\\', \\'\\'], [\\'empty\\', \\'\\'], [\\'empty\\', \\'\\']]]\\nQ: What would be a better next guess: \"BOOKS\", \"FLAKE\", or \"DINOSAUR\".\\n'},\n",
       " {'title': 'question',\n",
       "  'question': \"Below is the state of a wordle game:\\nA B O U T\\nS A L E S\\nF L A M E\\n□ □ □ □ □\\n□ □ □ □ □\\n□ □ □ □ □\\n[[['absent', 'a'], ['present', 'b'], ['correct', 'o'], ['absent', 'u'], ['absent', 't']], [['present', 's'], ['absent', 'a'], ['absent', 'l'], ['absent', 'e'], ['correct', 's']], [['absent', 'f'], ['absent', 'l'], ['absent', 'a'], ['absent', 'm'], ['absent', 'e']], [['empty', ''], ['empty', ''], ['empty', ''], ['empty', ''], ['empty', '']], [['empty', ''], ['empty', ''], ['empty', ''], ['empty', ''], ['empty', '']], [['empty', ''], ['empty', ''], ['empty', ''], ['empty', ''], ['empty', '']]]\\nQ: What would be a better next guess: \\nA) BOOKS\\nB) FLAKE\\nC) DINOSAUR\\n\"},\n",
       " {'title': 'question',\n",
       "  'question': 'Below is the state of a wordle game:\\nA B O U T\\nS A L E S\\nF L A M E\\n□ □ □ □ □\\n□ □ □ □ □\\n□ □ □ □ □\\n[[[\\'absent\\', \\'a\\'], [\\'present\\', \\'b\\'], [\\'correct\\', \\'o\\'], [\\'absent\\', \\'u\\'], [\\'absent\\', \\'t\\']], [[\\'present\\', \\'s\\'], [\\'absent\\', \\'a\\'], [\\'absent\\', \\'l\\'], [\\'absent\\', \\'e\\'], [\\'correct\\', \\'s\\']], [[\\'absent\\', \\'f\\'], [\\'absent\\', \\'l\\'], [\\'absent\\', \\'a\\'], [\\'absent\\', \\'m\\'], [\\'absent\\', \\'e\\']], [[\\'empty\\', \\'\\'], [\\'empty\\', \\'\\'], [\\'empty\\', \\'\\'], [\\'empty\\', \\'\\'], [\\'empty\\', \\'\\']], [[\\'empty\\', \\'\\'], [\\'empty\\', \\'\\'], [\\'empty\\', \\'\\'], [\\'empty\\', \\'\\'], [\\'empty\\', \\'\\']], [[\\'empty\\', \\'\\'], [\\'empty\\', \\'\\'], [\\'empty\\', \\'\\'], [\\'empty\\', \\'\\'], [\\'empty\\', \\'\\']]]\\nQ: What would be a better next guess: \"BOOKS\", \"FLAKE\", or \"DINOSAUR\". Why? What would be another good guess?\\n'}]"
      ]
     },
     "execution_count": 29,
     "metadata": {},
     "output_type": "execute_result"
    }
   ],
   "source": [
    "extracted_data"
   ]
  },
  {
   "cell_type": "code",
   "execution_count": 19,
   "metadata": {},
   "outputs": [
    {
     "data": {
      "text/plain": [
       "<h1>Basic Wordle Questions</h1>\n",
       "<p>Written 11.18.23\n",
       "These are to get a baseline on LLM capabilities.</p>\n",
       "<h2>Metadata</h2>\n",
       "<p>... (rest of your markdown text)</p>"
      ]
     },
     "execution_count": 19,
     "metadata": {},
     "output_type": "execute_result"
    }
   ],
   "source": [
    "soup"
   ]
  },
  {
   "cell_type": "code",
   "execution_count": 14,
   "metadata": {},
   "outputs": [
    {
     "data": {
      "text/plain": [
       "[]"
      ]
     },
     "execution_count": 14,
     "metadata": {},
     "output_type": "execute_result"
    }
   ],
   "source": [
    "soup.find_all(['h3', 'h4', 'h5', 'h6'])"
   ]
  },
  {
   "cell_type": "code",
   "execution_count": 13,
   "metadata": {},
   "outputs": [
    {
     "data": {
      "text/plain": [
       "[]"
      ]
     },
     "execution_count": 13,
     "metadata": {},
     "output_type": "execute_result"
    }
   ],
   "source": [
    "extracted_data"
   ]
  },
  {
   "cell_type": "code",
   "execution_count": null,
   "metadata": {},
   "outputs": [],
   "source": [
    "\n",
    "# Print or process the extracted data\n",
    "for data in extracted_data:\n",
    "    print(data)\n"
   ]
  },
  {
   "cell_type": "code",
   "execution_count": null,
   "metadata": {},
   "outputs": [],
   "source": []
  }
 ],
 "metadata": {
  "kernelspec": {
   "display_name": "venv",
   "language": "python",
   "name": "python3"
  },
  "language_info": {
   "codemirror_mode": {
    "name": "ipython",
    "version": 3
   },
   "file_extension": ".py",
   "mimetype": "text/x-python",
   "name": "python",
   "nbconvert_exporter": "python",
   "pygments_lexer": "ipython3",
   "version": "3.9.2"
  }
 },
 "nbformat": 4,
 "nbformat_minor": 2
}
