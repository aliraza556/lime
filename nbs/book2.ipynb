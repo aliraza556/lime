{
 "cells": [
  {
   "cell_type": "markdown",
   "metadata": {},
   "source": [
    "### Book2 - Quick Demos:\n",
    " - suppressing stdout output\n",
    " - tokenization"
   ]
  },
  {
   "cell_type": "code",
   "execution_count": 6,
   "metadata": {},
   "outputs": [],
   "source": [
    "import ctypes\n",
    "from llama_cpp import llama_log_set\n",
    "from llama_cpp import Llama"
   ]
  },
  {
   "cell_type": "code",
   "execution_count": null,
   "metadata": {},
   "outputs": [],
   "source": [
    "# suppress log output from llama.cpp\n",
    "def my_log_callback(level, message, user_data):\n",
    "    pass\n",
    "log_callback = ctypes.CFUNCTYPE(None, ctypes.c_int, ctypes.c_char_p, ctypes.c_void_p)(my_log_callback)\n",
    "llama_log_set(log_callback, ctypes.c_void_p())"
   ]
  },
  {
   "cell_type": "markdown",
   "metadata": {},
   "source": [
    "### Tokenize example\n",
    "Most common color are represented with one token, some need two."
   ]
  },
  {
   "cell_type": "code",
   "execution_count": 24,
   "metadata": {},
   "outputs": [],
   "source": [
    "llama_fn = '/mnt/disk2/llamas/TheBloke7B/llama-2-7b.Q4_K_M.gguf'\n",
    "mistral_fn = '/mnt/disk2/llamas/mistral-7B-v0.1/ggml-model-q4_0.gguf'\n",
    "\n",
    "colors = ['red', 'green', 'blue', 'yellow', 'orange', \n",
    "            'purple', 'pink', 'brown', 'black', 'white'\n",
    "]"
   ]
  },
  {
   "cell_type": "code",
   "execution_count": 25,
   "metadata": {},
   "outputs": [],
   "source": [
    "def show_tokenization(model_fn, input_text):\n",
    "    llm = Llama(model_fn, vocab_only=True, verbose=False)\n",
    "    \n",
    "    b_colors = [c.encode('utf-8') for c in input_text]\n",
    "    tok_colors = [llm.tokenize(text=color, add_bos=False) for color in b_colors]\n",
    "    detok_colors = [\n",
    "        tuple(\n",
    "            llm.tokenizer().decode(tokens=[tok]) \n",
    "            for tok in tok_color\n",
    "        ) \n",
    "        for tok_color in tok_colors\n",
    "    ]\n",
    "    return [e for e in zip(colors, tok_colors, detok_colors)]"
   ]
  },
  {
   "cell_type": "code",
   "execution_count": 26,
   "metadata": {},
   "outputs": [
    {
     "data": {
      "text/plain": [
       "[('red', [2654], (' red',)),\n",
       " ('green', [7933], (' green',)),\n",
       " ('blue', [7254], (' blue',)),\n",
       " ('yellow', [13328], (' yellow',)),\n",
       " ('orange', [24841], (' orange',)),\n",
       " ('purple', [3708, 552], (' pur', 'ple')),\n",
       " ('pink', [282, 682], (' p', 'ink')),\n",
       " ('brown', [17354], (' brown',)),\n",
       " ('black', [4628], (' black',)),\n",
       " ('white', [4796], (' white',))]"
      ]
     },
     "execution_count": 26,
     "metadata": {},
     "output_type": "execute_result"
    }
   ],
   "source": [
    "show_tokenization(llama_fn, colors)"
   ]
  },
  {
   "cell_type": "code",
   "execution_count": 27,
   "metadata": {},
   "outputs": [
    {
     "data": {
      "text/plain": [
       "[('red', [2760], (' red',)),\n",
       " ('green', [5344], (' green',)),\n",
       " ('blue', [5045], (' blue',)),\n",
       " ('yellow', [9684], (' yellow',)),\n",
       " ('orange', [14545], (' orange',)),\n",
       " ('purple', [19435], (' purple',)),\n",
       " ('pink', [12937], (' pink',)),\n",
       " ('brown', [9060], (' brown',)),\n",
       " ('black', [2687], (' black',)),\n",
       " ('white', [3075], (' white',))]"
      ]
     },
     "execution_count": 27,
     "metadata": {},
     "output_type": "execute_result"
    }
   ],
   "source": [
    "show_tokenization(mistral_fn, colors)"
   ]
  },
  {
   "cell_type": "markdown",
   "metadata": {},
   "source": [
    "### Embeddings and other findings"
   ]
  },
  {
   "cell_type": "code",
   "execution_count": 31,
   "metadata": {},
   "outputs": [
    {
     "name": "stderr",
     "output_type": "stream",
     "text": [
      "AVX = 1 | AVX2 = 1 | AVX512 = 0 | AVX512_VBMI = 0 | AVX512_VNNI = 0 | FMA = 1 | NEON = 0 | ARM_FMA = 0 | F16C = 1 | FP16_VA = 0 | WASM_SIMD = 0 | BLAS = 0 | SSE3 = 1 | SSSE3 = 1 | VSX = 0 | \n",
      "AVX = 1 | AVX2 = 1 | AVX512 = 0 | AVX512_VBMI = 0 | AVX512_VNNI = 0 | FMA = 1 | NEON = 0 | ARM_FMA = 0 | F16C = 1 | FP16_VA = 0 | WASM_SIMD = 0 | BLAS = 0 | SSE3 = 1 | SSSE3 = 1 | VSX = 0 | \n"
     ]
    },
    {
     "data": {
      "text/plain": [
       "(32000, 32000)"
      ]
     },
     "execution_count": 31,
     "metadata": {},
     "output_type": "execute_result"
    }
   ],
   "source": [
    "llama_model = Llama(llama_fn, vocab_only=True)\n",
    "mistral_model = Llama(mistral_fn, vocab_only=True)\n",
    "\n",
    "llama_model.n_vocab(), mistral_model.n_vocab()"
   ]
  },
  {
   "cell_type": "code",
   "execution_count": 48,
   "metadata": {},
   "outputs": [
    {
     "name": "stderr",
     "output_type": "stream",
     "text": [
      "AVX = 1 | AVX2 = 1 | AVX512 = 0 | AVX512_VBMI = 0 | AVX512_VNNI = 0 | FMA = 1 | NEON = 0 | ARM_FMA = 0 | F16C = 1 | FP16_VA = 0 | WASM_SIMD = 0 | BLAS = 0 | SSE3 = 1 | SSSE3 = 1 | VSX = 0 | \n"
     ]
    }
   ],
   "source": [
    "msg = 'purple and gold'\n",
    "model = Llama(llama_fn, embedding=True)\n",
    "msg_embed = model.embed(msg)"
   ]
  },
  {
   "cell_type": "code",
   "execution_count": 49,
   "metadata": {},
   "outputs": [
    {
     "name": "stdout",
     "output_type": "stream",
     "text": [
      "length: 4096\n"
     ]
    },
    {
     "data": {
      "text/plain": [
       "[0.26421090960502625,\n",
       " -0.2617086172103882,\n",
       " -1.126269817352295,\n",
       " 0.6033214926719666,\n",
       " 0.6219836473464966,\n",
       " -1.0355020761489868,\n",
       " 0.37359991669654846,\n",
       " -0.3784862756729126,\n",
       " 5.308225154876709,\n",
       " 1.748565912246704]"
      ]
     },
     "execution_count": 49,
     "metadata": {},
     "output_type": "execute_result"
    }
   ],
   "source": [
    "print( f\"length: {len(msg_embed)}\" )\n",
    "msg_embed[:10]"
   ]
  },
  {
   "cell_type": "code",
   "execution_count": null,
   "metadata": {},
   "outputs": [],
   "source": []
  },
  {
   "cell_type": "code",
   "execution_count": null,
   "metadata": {},
   "outputs": [],
   "source": []
  },
  {
   "cell_type": "markdown",
   "metadata": {},
   "source": [
    "### Graveyard of of suppress_output wrappers"
   ]
  },
  {
   "cell_type": "code",
   "execution_count": null,
   "metadata": {},
   "outputs": [],
   "source": [
    "from llama_cpp._utils import suppress_stdout_stderr\n",
    "\n",
    "def foo():\n",
    "    with suppress_stdout_stderr():\n",
    "        llm = Llama(model_fn, vocab_only=True, verbose=False)        \n",
    "        return llm"
   ]
  },
  {
   "cell_type": "code",
   "execution_count": null,
   "metadata": {},
   "outputs": [],
   "source": [
    "import sys\n",
    "import contextlib\n",
    "import os\n",
    "\n",
    "@contextlib.contextmanager\n",
    "def suppress_output():\n",
    "    new_stdout = open(os.devnull, 'w')\n",
    "    new_stderr = open(os.devnull, 'w')\n",
    "    old_stdout = sys.stdout\n",
    "    old_stderr = sys.stderr\n",
    "    try:\n",
    "        sys.stdout = new_stdout\n",
    "        sys.stderr = new_stderr\n",
    "        yield\n",
    "    finally:\n",
    "        sys.stdout = old_stdout\n",
    "        sys.stderr = old_stderr\n",
    "        new_stdout.close()\n",
    "        new_stderr.close()\n"
   ]
  },
  {
   "cell_type": "code",
   "execution_count": null,
   "metadata": {},
   "outputs": [],
   "source": [
    "def suppress_stdout(func):\n",
    "    def wrapper(*args, **kwargs):\n",
    "        sys.stdout = open('/dev/null', 'w')\n",
    "        func(*args, **kwargs)\n",
    "        sys.stdout = sys.__stdout__\n",
    "\n",
    "    return wrapper"
   ]
  }
 ],
 "metadata": {
  "kernelspec": {
   "display_name": "Python 3 (ipykernel)",
   "language": "python",
   "name": "python3"
  }
 },
 "nbformat": 4,
 "nbformat_minor": 2
}
