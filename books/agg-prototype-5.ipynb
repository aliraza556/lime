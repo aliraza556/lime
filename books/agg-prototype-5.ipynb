{
 "cells": [
  {
   "cell_type": "markdown",
   "metadata": {},
   "source": [
    "## Develop Grade-Discrepancy-Report\n",
    "3.12.24 - 3.15.24\n",
    "\n",
    "When two models or two runs act on the same sheet, the grade may differ.\n",
    "This report is to compare the grade of two (or more) models or two runs and find the discrepancies (if any)."
   ]
  },
  {
   "cell_type": "code",
   "execution_count": 41,
   "metadata": {},
   "outputs": [
    {
     "name": "stdout",
     "output_type": "stream",
     "text": [
      "The autoreload extension is already loaded. To reload it, use:\n",
      "  %reload_ext autoreload\n"
     ]
    }
   ],
   "source": [
    "import pandas as pd\n",
    "%load_ext autoreload\n",
    "%autoreload 2"
   ]
  },
  {
   "cell_type": "code",
   "execution_count": 42,
   "metadata": {},
   "outputs": [],
   "source": [
    "\n",
    "from lime.agg import build_data_wrapper\n",
    "from lime.modules.views.agg.collect import build_data\n",
    "from lime.modules.views.agg.query import (\n",
    "    sheet_by_model_pct_correct,\n",
    "    all_sheets_all_questions,\n",
    "    input_by_model,\n",
    "    format_multi_index,\n",
    ")\n"
   ]
  },
  {
   "cell_type": "code",
   "execution_count": 43,
   "metadata": {},
   "outputs": [
    {
     "name": "stdout",
     "output_type": "stream",
     "text": [
      "../../datasets/hello-qa/hotpot1/_aggs/output-cpl-wins-1-cpl-rag-1-41cb.json\n",
      "../../datasets/hello-qa/hotpot1/_aggs/output-cpl-wins-1-gpt-3.5-turbo-4543.json\n",
      "../../datasets/hello-qa/hotpot1/_aggs/output-gpt-wins-1-cpl-rag-1-d032.json\n",
      "../../datasets/hello-qa/hotpot1/_aggs/output-gpt-wins-1-gpt-3.5-turbo-2711.json\n"
     ]
    }
   ],
   "source": [
    "base_path = '../../datasets/hello-qa/hotpot1/_aggs/'\n",
    "exp = '*wins*'\n",
    "!ls {base_path + exp}\n",
    "data = build_data_wrapper(base_path + exp)"
   ]
  },
  {
   "cell_type": "code",
   "execution_count": 44,
   "metadata": {},
   "outputs": [
    {
     "data": {
      "text/plain": [
       "((40, 19),\n",
       " name            object\n",
       " meta_data       object\n",
       " ground_truth    object\n",
       " question_usr    object\n",
       " dtype: object)"
      ]
     },
     "execution_count": 44,
     "metadata": {},
     "output_type": "execute_result"
    }
   ],
   "source": [
    "data.shape, data.dtypes[:4]"
   ]
  },
  {
   "cell_type": "markdown",
   "metadata": {},
   "source": [
    "### `--discrepency` report"
   ]
  },
  {
   "cell_type": "code",
   "execution_count": 40,
   "metadata": {},
   "outputs": [
    {
     "name": "stdout",
     "output_type": "stream",
     "text": [
      "| name   |   ('cpl-rag-1', '41cb') |   ('gpt-3.5-turbo', '4543') |   ('cpl-rag-1', 'd032') |   ('gpt-3.5-turbo', '2711') |\n",
      "|:-------|------------------------:|----------------------------:|------------------------:|----------------------------:|\n",
      "| Q-10   |                       1 |                           1 |                     nan |                         nan |\n",
      "| Q-12   |                     nan |                         nan |                       0 |                           1 |\n",
      "| Q-14   |                     nan |                         nan |                       0 |                           1 |\n"
     ]
    }
   ],
   "source": [
    "question_names_by_models = pd.pivot(\n",
    "    data, \n",
    "    index='name', \n",
    "    columns=['model_name', 'run_id'], \n",
    "    values='grade_bool'\n",
    ")\n",
    "print(question_names_by_models.head(3).to_markdown())"
   ]
  },
  {
   "cell_type": "code",
   "execution_count": 26,
   "metadata": {},
   "outputs": [],
   "source": [
    "diff_index = (\n",
    "    question_names_by_models.apply(lambda x: x.dropna().nunique() > 1, axis=1)\n",
    ")"
   ]
  },
  {
   "cell_type": "code",
   "execution_count": 32,
   "metadata": {},
   "outputs": [
    {
     "data": {
      "text/html": [
       "<div>\n",
       "<style scoped>\n",
       "    .dataframe tbody tr th:only-of-type {\n",
       "        vertical-align: middle;\n",
       "    }\n",
       "\n",
       "    .dataframe tbody tr th {\n",
       "        vertical-align: top;\n",
       "    }\n",
       "\n",
       "    .dataframe thead tr th {\n",
       "        text-align: left;\n",
       "    }\n",
       "\n",
       "    .dataframe thead tr:last-of-type th {\n",
       "        text-align: right;\n",
       "    }\n",
       "</style>\n",
       "<table border=\"1\" class=\"dataframe\">\n",
       "  <thead>\n",
       "    <tr>\n",
       "      <th>model_name</th>\n",
       "      <th>cpl-rag-1</th>\n",
       "      <th>gpt-3.5-turbo</th>\n",
       "      <th>cpl-rag-1</th>\n",
       "      <th>gpt-3.5-turbo</th>\n",
       "    </tr>\n",
       "    <tr>\n",
       "      <th>run_id</th>\n",
       "      <th>41cb</th>\n",
       "      <th>4543</th>\n",
       "      <th>d032</th>\n",
       "      <th>2711</th>\n",
       "    </tr>\n",
       "    <tr>\n",
       "      <th>name</th>\n",
       "      <th></th>\n",
       "      <th></th>\n",
       "      <th></th>\n",
       "      <th></th>\n",
       "    </tr>\n",
       "  </thead>\n",
       "  <tbody>\n",
       "    <tr>\n",
       "      <th>Q-10</th>\n",
       "      <td>True</td>\n",
       "      <td>True</td>\n",
       "      <td>NaN</td>\n",
       "      <td>NaN</td>\n",
       "    </tr>\n",
       "    <tr>\n",
       "      <th>Q-4</th>\n",
       "      <td>False</td>\n",
       "      <td>False</td>\n",
       "      <td>NaN</td>\n",
       "      <td>NaN</td>\n",
       "    </tr>\n",
       "  </tbody>\n",
       "</table>\n",
       "</div>"
      ],
      "text/plain": [
       "model_name cpl-rag-1 gpt-3.5-turbo cpl-rag-1 gpt-3.5-turbo\n",
       "run_id          41cb          4543      d032          2711\n",
       "name                                                      \n",
       "Q-10            True          True       NaN           NaN\n",
       "Q-4            False         False       NaN           NaN"
      ]
     },
     "execution_count": 32,
     "metadata": {},
     "output_type": "execute_result"
    }
   ],
   "source": [
    "tmp = question_names_by_models[diff_index==False]\n",
    "tmp"
   ]
  },
  {
   "cell_type": "code",
   "execution_count": 37,
   "metadata": {},
   "outputs": [
    {
     "name": "stdout",
     "output_type": "stream",
     "text": [
      "| name   | ('cpl-rag-1', '41cb')   | ('gpt-3.5-turbo', '4543')   | ('cpl-rag-1', 'd032')   | ('gpt-3.5-turbo', '2711')   |\n",
      "|:-------|:------------------------|:----------------------------|:------------------------|:----------------------------|\n",
      "| Q-10   | True                    | True                        | -                       | -                           |\n",
      "| Q-4    | False                   | False                       | -                       | -                           |\n"
     ]
    }
   ],
   "source": [
    "print(tmp.fillna('-').to_markdown())"
   ]
  },
  {
   "cell_type": "markdown",
   "metadata": {},
   "source": [
    "### `--discrepency-full` report"
   ]
  },
  {
   "cell_type": "code",
   "execution_count": 51,
   "metadata": {},
   "outputs": [
    {
     "data": {
      "text/html": [
       "<div>\n",
       "<style scoped>\n",
       "    .dataframe tbody tr th:only-of-type {\n",
       "        vertical-align: middle;\n",
       "    }\n",
       "\n",
       "    .dataframe tbody tr th {\n",
       "        vertical-align: top;\n",
       "    }\n",
       "\n",
       "    .dataframe thead tr th {\n",
       "        text-align: left;\n",
       "    }\n",
       "\n",
       "    .dataframe thead tr:last-of-type th {\n",
       "        text-align: right;\n",
       "    }\n",
       "</style>\n",
       "<table border=\"1\" class=\"dataframe\">\n",
       "  <thead>\n",
       "    <tr>\n",
       "      <th></th>\n",
       "      <th colspan=\"4\" halign=\"left\">grade_bool</th>\n",
       "      <th colspan=\"4\" halign=\"left\">completion</th>\n",
       "    </tr>\n",
       "    <tr>\n",
       "      <th>model_name</th>\n",
       "      <th>cpl-rag-1</th>\n",
       "      <th>gpt-3.5-turbo</th>\n",
       "      <th>cpl-rag-1</th>\n",
       "      <th>gpt-3.5-turbo</th>\n",
       "      <th>cpl-rag-1</th>\n",
       "      <th>gpt-3.5-turbo</th>\n",
       "      <th>cpl-rag-1</th>\n",
       "      <th>gpt-3.5-turbo</th>\n",
       "    </tr>\n",
       "    <tr>\n",
       "      <th>run_id</th>\n",
       "      <th>41cb</th>\n",
       "      <th>4543</th>\n",
       "      <th>d032</th>\n",
       "      <th>2711</th>\n",
       "      <th>41cb</th>\n",
       "      <th>4543</th>\n",
       "      <th>d032</th>\n",
       "      <th>2711</th>\n",
       "    </tr>\n",
       "    <tr>\n",
       "      <th>name</th>\n",
       "      <th></th>\n",
       "      <th></th>\n",
       "      <th></th>\n",
       "      <th></th>\n",
       "      <th></th>\n",
       "      <th></th>\n",
       "      <th></th>\n",
       "      <th></th>\n",
       "    </tr>\n",
       "  </thead>\n",
       "  <tbody>\n",
       "    <tr>\n",
       "      <th>Q-10</th>\n",
       "      <td>True</td>\n",
       "      <td>True</td>\n",
       "      <td>NaN</td>\n",
       "      <td>NaN</td>\n",
       "      <td>The Afghan Whigs</td>\n",
       "      <td>The Afghan Whigs have more recently reformed. ...</td>\n",
       "      <td>NaN</td>\n",
       "      <td>NaN</td>\n",
       "    </tr>\n",
       "    <tr>\n",
       "      <th>Q-12</th>\n",
       "      <td>NaN</td>\n",
       "      <td>NaN</td>\n",
       "      <td>False</td>\n",
       "      <td>True</td>\n",
       "      <td>NaN</td>\n",
       "      <td>NaN</td>\n",
       "      <td>oldest</td>\n",
       "      <td>The 72nd Field Brigade is part of the oldest e...</td>\n",
       "    </tr>\n",
       "    <tr>\n",
       "      <th>Q-14</th>\n",
       "      <td>NaN</td>\n",
       "      <td>NaN</td>\n",
       "      <td>False</td>\n",
       "      <td>True</td>\n",
       "      <td>NaN</td>\n",
       "      <td>NaN</td>\n",
       "      <td>Wang Xiaoshuai</td>\n",
       "      <td>Wang Xiaoshuai is younger than Del Lord. Wang ...</td>\n",
       "    </tr>\n",
       "  </tbody>\n",
       "</table>\n",
       "</div>"
      ],
      "text/plain": [
       "           grade_bool                                              completion  \\\n",
       "model_name  cpl-rag-1 gpt-3.5-turbo cpl-rag-1 gpt-3.5-turbo         cpl-rag-1   \n",
       "run_id           41cb          4543      d032          2711              41cb   \n",
       "name                                                                            \n",
       "Q-10             True          True       NaN           NaN  The Afghan Whigs   \n",
       "Q-12              NaN           NaN     False          True               NaN   \n",
       "Q-14              NaN           NaN     False          True               NaN   \n",
       "\n",
       "                                                                               \\\n",
       "model_name                                      gpt-3.5-turbo       cpl-rag-1   \n",
       "run_id                                                   4543            d032   \n",
       "name                                                                            \n",
       "Q-10        The Afghan Whigs have more recently reformed. ...             NaN   \n",
       "Q-12                                                      NaN          oldest   \n",
       "Q-14                                                      NaN  Wang Xiaoshuai   \n",
       "\n",
       "                                                               \n",
       "model_name                                      gpt-3.5-turbo  \n",
       "run_id                                                   2711  \n",
       "name                                                           \n",
       "Q-10                                                      NaN  \n",
       "Q-12        The 72nd Field Brigade is part of the oldest e...  \n",
       "Q-14        Wang Xiaoshuai is younger than Del Lord. Wang ...  "
      ]
     },
     "execution_count": 51,
     "metadata": {},
     "output_type": "execute_result"
    }
   ],
   "source": [
    "question_names_by_models = pd.pivot(\n",
    "    data, \n",
    "    index='name', \n",
    "    columns=['model_name', 'run_id'], \n",
    "    values=['grade_bool', 'completion']\n",
    ")\n",
    "question_names_by_models.head(3)"
   ]
  },
  {
   "cell_type": "code",
   "execution_count": 59,
   "metadata": {},
   "outputs": [],
   "source": [
    "from lime.modules.views.agg.query import (\n",
    "    grade_discrepancy_by_runid,\n",
    ")"
   ]
  },
  {
   "cell_type": "code",
   "execution_count": 60,
   "metadata": {},
   "outputs": [
    {
     "name": "stdout",
     "output_type": "stream",
     "text": [
      "../../datasets/hello-qa/hotpot1/_aggs/output-train-ten-1-cpl-basic-1-dee2.json\n",
      "../../datasets/hello-qa/hotpot1/_aggs/output-train-ten-1-cpl-rag-1-d9cf.json\n",
      "../../datasets/hello-qa/hotpot1/_aggs/output-train-ten-1-gpt-3.5-turbo-580c.json\n"
     ]
    }
   ],
   "source": [
    "base_path = '../../datasets/hello-qa/hotpot1/_aggs/'\n",
    "exp = '*train-ten-1*'\n",
    "!ls {base_path + exp}\n",
    "data = build_data_wrapper(base_path + exp)"
   ]
  },
  {
   "cell_type": "code",
   "execution_count": 61,
   "metadata": {},
   "outputs": [],
   "source": [
    "# filter out third dataset\n",
    "data = data[data['model_name'] != 'cpl-basic-1']"
   ]
  },
  {
   "cell_type": "code",
   "execution_count": 63,
   "metadata": {},
   "outputs": [
    {
     "data": {
      "text/html": [
       "<div>\n",
       "<style scoped>\n",
       "    .dataframe tbody tr th:only-of-type {\n",
       "        vertical-align: middle;\n",
       "    }\n",
       "\n",
       "    .dataframe tbody tr th {\n",
       "        vertical-align: top;\n",
       "    }\n",
       "\n",
       "    .dataframe thead tr th {\n",
       "        text-align: left;\n",
       "    }\n",
       "\n",
       "    .dataframe thead tr:last-of-type th {\n",
       "        text-align: right;\n",
       "    }\n",
       "</style>\n",
       "<table border=\"1\" class=\"dataframe\">\n",
       "  <thead>\n",
       "    <tr>\n",
       "      <th></th>\n",
       "      <th colspan=\"2\" halign=\"left\">grade_bool</th>\n",
       "    </tr>\n",
       "    <tr>\n",
       "      <th>model_name</th>\n",
       "      <th>cpl-rag-1</th>\n",
       "      <th>gpt-3.5-turbo</th>\n",
       "    </tr>\n",
       "    <tr>\n",
       "      <th>run_id</th>\n",
       "      <th>d9cf</th>\n",
       "      <th>580c</th>\n",
       "    </tr>\n",
       "    <tr>\n",
       "      <th>name</th>\n",
       "      <th></th>\n",
       "      <th></th>\n",
       "    </tr>\n",
       "  </thead>\n",
       "  <tbody>\n",
       "    <tr>\n",
       "      <th>Q-10</th>\n",
       "      <td>True</td>\n",
       "      <td>False</td>\n",
       "    </tr>\n",
       "    <tr>\n",
       "      <th>Q-4</th>\n",
       "      <td>True</td>\n",
       "      <td>False</td>\n",
       "    </tr>\n",
       "  </tbody>\n",
       "</table>\n",
       "</div>"
      ],
      "text/plain": [
       "           grade_bool              \n",
       "model_name  cpl-rag-1 gpt-3.5-turbo\n",
       "run_id           d9cf          580c\n",
       "name                               \n",
       "Q-10             True         False\n",
       "Q-4              True         False"
      ]
     },
     "execution_count": 63,
     "metadata": {},
     "output_type": "execute_result"
    }
   ],
   "source": [
    "# basic --discrepencies report\n",
    "grade_discrepancy_by_runid(data)"
   ]
  },
  {
   "cell_type": "code",
   "execution_count": 67,
   "metadata": {},
   "outputs": [
    {
     "name": "stdout",
     "output_type": "stream",
     "text": [
      "| name   | ('grade_bool', 'cpl-rag-1', 'd9cf')   | ('grade_bool', 'gpt-3.5-turbo', '580c')   | ('completion', 'cpl-rag-1', 'd9cf')   | ('completion', 'gpt-3.5-turbo', '580c')                                                                                             |\n",
      "|:-------|:--------------------------------------|:------------------------------------------|:--------------------------------------|:------------------------------------------------------------------------------------------------------------------------------------|\n",
      "| Q-1    | False                                 | False                                     | Townes Van Zandt                      | At My Window was released by American singer-songwriter Townes Van Zandt.                                                           |\n",
      "| Q-10   | True                                  | False                                     | Operation Citadel                     | The code name for the German offensive that started this Second World War engagement on the Eastern Front was Operation Barbarossa. |\n",
      "| Q-2    | False                                 | False                                     | Nora Dunn                             | Candace Kita guest starred with American actor David Hasselhoff in the TV series \"Baywatch.\"                                        |\n"
     ]
    }
   ],
   "source": [
    "question_names_by_models = pd.pivot(\n",
    "    data, \n",
    "    index='name', \n",
    "    columns=['model_name', 'run_id'], \n",
    "    values=['grade_bool', 'completion']\n",
    ")\n",
    "print(question_names_by_models.head(3).to_markdown())"
   ]
  },
  {
   "cell_type": "code",
   "execution_count": 70,
   "metadata": {},
   "outputs": [
    {
     "data": {
      "text/html": [
       "<div>\n",
       "<style scoped>\n",
       "    .dataframe tbody tr th:only-of-type {\n",
       "        vertical-align: middle;\n",
       "    }\n",
       "\n",
       "    .dataframe tbody tr th {\n",
       "        vertical-align: top;\n",
       "    }\n",
       "\n",
       "    .dataframe thead tr th {\n",
       "        text-align: left;\n",
       "    }\n",
       "\n",
       "    .dataframe thead tr:last-of-type th {\n",
       "        text-align: right;\n",
       "    }\n",
       "</style>\n",
       "<table border=\"1\" class=\"dataframe\">\n",
       "  <thead>\n",
       "    <tr>\n",
       "      <th></th>\n",
       "      <th colspan=\"2\" halign=\"left\">grade_bool</th>\n",
       "      <th colspan=\"2\" halign=\"left\">completion</th>\n",
       "    </tr>\n",
       "    <tr>\n",
       "      <th>model_name</th>\n",
       "      <th>cpl-rag-1</th>\n",
       "      <th>gpt-3.5-turbo</th>\n",
       "      <th>cpl-rag-1</th>\n",
       "      <th>gpt-3.5-turbo</th>\n",
       "    </tr>\n",
       "    <tr>\n",
       "      <th>run_id</th>\n",
       "      <th>d9cf</th>\n",
       "      <th>580c</th>\n",
       "      <th>d9cf</th>\n",
       "      <th>580c</th>\n",
       "    </tr>\n",
       "    <tr>\n",
       "      <th>name</th>\n",
       "      <th></th>\n",
       "      <th></th>\n",
       "      <th></th>\n",
       "      <th></th>\n",
       "    </tr>\n",
       "  </thead>\n",
       "  <tbody>\n",
       "    <tr>\n",
       "      <th>Q-10</th>\n",
       "      <td>True</td>\n",
       "      <td>False</td>\n",
       "      <td>Operation Citadel</td>\n",
       "      <td>The code name for the German offensive that st...</td>\n",
       "    </tr>\n",
       "    <tr>\n",
       "      <th>Q-4</th>\n",
       "      <td>True</td>\n",
       "      <td>False</td>\n",
       "      <td>1950</td>\n",
       "      <td>The author of The Victorians - Their Story In ...</td>\n",
       "    </tr>\n",
       "  </tbody>\n",
       "</table>\n",
       "</div>"
      ],
      "text/plain": [
       "           grade_bool                       completion  \\\n",
       "model_name  cpl-rag-1 gpt-3.5-turbo          cpl-rag-1   \n",
       "run_id           d9cf          580c               d9cf   \n",
       "name                                                     \n",
       "Q-10             True         False  Operation Citadel   \n",
       "Q-4              True         False               1950   \n",
       "\n",
       "                                                               \n",
       "model_name                                      gpt-3.5-turbo  \n",
       "run_id                                                   580c  \n",
       "name                                                           \n",
       "Q-10        The code name for the German offensive that st...  \n",
       "Q-4         The author of The Victorians - Their Story In ...  "
      ]
     },
     "execution_count": 70,
     "metadata": {},
     "output_type": "execute_result"
    }
   ],
   "source": [
    "# augmented --discrepencies report\n",
    "tmp = grade_discrepancy_by_runid(data, add_values=['completion'])\n",
    "tmp\n",
    "# print(tmp.head(3).to_markdown())"
   ]
  },
  {
   "cell_type": "code",
   "execution_count": 71,
   "metadata": {},
   "outputs": [],
   "source": [
    "from lime.agg import (\n",
    "    do_discrepancies\n",
    ")"
   ]
  },
  {
   "cell_type": "code",
   "execution_count": 73,
   "metadata": {},
   "outputs": [
    {
     "name": "stdout",
     "output_type": "stream",
     "text": [
      "### Model/RunIDs: rows where grade_bool has discrepancy \n",
      "\n",
      "| name   | ('grade_bool', 'cpl-rag-1', 'd9cf')   | ('grade_bool', 'gpt-3.5-turbo', '580c')   |\n",
      "|:-------|:--------------------------------------|:------------------------------------------|\n",
      "| Q-10   | True                                  | False                                     |\n",
      "| Q-4    | True                                  | False                                     |\n",
      "\n",
      "\n"
     ]
    }
   ],
   "source": [
    "tmp = do_discrepancies(data, is_full=False)\n",
    "print(tmp)"
   ]
  },
  {
   "cell_type": "code",
   "execution_count": 74,
   "metadata": {},
   "outputs": [
    {
     "name": "stdout",
     "output_type": "stream",
     "text": [
      "### Model/RunIDs: rows where grade_bool has discrepancy \n",
      "\n",
      "| name   | ('grade_bool', 'cpl-rag-1', 'd9cf')   | ('grade_bool', 'gpt-3.5-turbo', '580c')   | ('completion', 'cpl-rag-1', 'd9cf')   | ('completion', 'gpt-3.5-turbo', '580c')   |\n",
      "|:-------|:--------------------------------------|:------------------------------------------|:--------------------------------------|:------------------------------------------|\n",
      "| Q-10   | True                                  | False                                     | Operation Citadel                     | The code name for the German o...         |\n",
      "| Q-4    | True                                  | False                                     | 1950                                  | The author of The Victorians -...         |\n",
      "\n",
      "\n"
     ]
    }
   ],
   "source": [
    "tmp = do_discrepancies(data, is_full=True)\n",
    "print(tmp)"
   ]
  },
  {
   "cell_type": "markdown",
   "metadata": {},
   "source": [
    "### Fix format_multi_index"
   ]
  },
  {
   "cell_type": "code",
   "execution_count": 75,
   "metadata": {},
   "outputs": [],
   "source": [
    "# import fmt_text_field\n",
    "from lime.modules.views.agg.utils import fmt_text_field"
   ]
  },
  {
   "cell_type": "code",
   "execution_count": 77,
   "metadata": {},
   "outputs": [],
   "source": [
    "is_full = True\n",
    "if is_full:\n",
    "        \n",
    "    data = fmt_text_field(\n",
    "        data, \n",
    "        'completion', \n",
    "        max_chars=30,\n",
    "    )\n",
    "\n",
    "add_values = ['completion'] if is_full else []\n",
    "\n",
    "output  = '''### Model/RunIDs: rows where grade_bool has discrepancy \\n\\n'''\n",
    "output += format_multi_index(\n",
    "    grade_discrepancy_by_runid(data, add_values=add_values)\n",
    ").to_markdown(index=False)"
   ]
  },
  {
   "cell_type": "code",
   "execution_count": 79,
   "metadata": {},
   "outputs": [
    {
     "name": "stdout",
     "output_type": "stream",
     "text": [
      "### Model/RunIDs: rows where grade_bool has discrepancy \n",
      "\n",
      "| name   | ('grade_bool', 'cpl-rag-1', 'd9cf')   | ('grade_bool', 'gpt-3.5-turbo', '580c')   | ('completion', 'cpl-rag-1', 'd9cf')   | ('completion', 'gpt-3.5-turbo', '580c')   |\n",
      "|:-------|:--------------------------------------|:------------------------------------------|:--------------------------------------|:------------------------------------------|\n",
      "| Q-10   | True                                  | False                                     | Operation Citadel                     | The code name for the German o...         |\n",
      "| Q-4    | True                                  | False                                     | 1950                                  | The author of The Victorians -...         |\n"
     ]
    }
   ],
   "source": [
    "print(output)"
   ]
  },
  {
   "cell_type": "code",
   "execution_count": 94,
   "metadata": {},
   "outputs": [],
   "source": [
    "df = grade_discrepancy_by_runid(data, add_values=add_values)"
   ]
  },
  {
   "cell_type": "code",
   "execution_count": 89,
   "metadata": {},
   "outputs": [
    {
     "data": {
      "text/plain": [
       "(2, 4)"
      ]
     },
     "execution_count": 89,
     "metadata": {},
     "output_type": "execute_result"
    }
   ],
   "source": [
    "df.shape"
   ]
  },
  {
   "cell_type": "code",
   "execution_count": 90,
   "metadata": {},
   "outputs": [
    {
     "name": "stdout",
     "output_type": "stream",
     "text": [
      "| name   | ('grade_bool', 'cpl-rag-1', 'd9cf')   | ('grade_bool', 'gpt-3.5-turbo', '580c')   | ('completion', 'cpl-rag-1', 'd9cf')   | ('completion', 'gpt-3.5-turbo', '580c')   |\n",
      "|:-------|:--------------------------------------|:------------------------------------------|:--------------------------------------|:------------------------------------------|\n",
      "| Q-10   | True                                  | False                                     | Operation Citadel                     | The code name for the German o...         |\n",
      "| Q-4    | True                                  | False                                     | 1950                                  | The author of The Victorians -...         |\n"
     ]
    }
   ],
   "source": [
    "print(df.to_markdown())"
   ]
  },
  {
   "cell_type": "code",
   "execution_count": 84,
   "metadata": {},
   "outputs": [
    {
     "data": {
      "text/html": [
       "<div>\n",
       "<style scoped>\n",
       "    .dataframe tbody tr th:only-of-type {\n",
       "        vertical-align: middle;\n",
       "    }\n",
       "\n",
       "    .dataframe tbody tr th {\n",
       "        vertical-align: top;\n",
       "    }\n",
       "\n",
       "    .dataframe thead th {\n",
       "        text-align: right;\n",
       "    }\n",
       "</style>\n",
       "<table border=\"1\" class=\"dataframe\">\n",
       "  <thead>\n",
       "    <tr style=\"text-align: right;\">\n",
       "      <th></th>\n",
       "      <th>name</th>\n",
       "      <th>(grade_bool, cpl-rag-1, d9cf)</th>\n",
       "      <th>(grade_bool, gpt-3.5-turbo, 580c)</th>\n",
       "      <th>(completion, cpl-rag-1, d9cf)</th>\n",
       "      <th>(completion, gpt-3.5-turbo, 580c)</th>\n",
       "    </tr>\n",
       "  </thead>\n",
       "  <tbody>\n",
       "    <tr>\n",
       "      <th>0</th>\n",
       "      <td>Q-10</td>\n",
       "      <td>True</td>\n",
       "      <td>False</td>\n",
       "      <td>Operation Citadel</td>\n",
       "      <td>The code name for the German o...</td>\n",
       "    </tr>\n",
       "    <tr>\n",
       "      <th>1</th>\n",
       "      <td>Q-4</td>\n",
       "      <td>True</td>\n",
       "      <td>False</td>\n",
       "      <td>1950</td>\n",
       "      <td>The author of The Victorians -...</td>\n",
       "    </tr>\n",
       "  </tbody>\n",
       "</table>\n",
       "</div>"
      ],
      "text/plain": [
       "   name (grade_bool, cpl-rag-1, d9cf) (grade_bool, gpt-3.5-turbo, 580c)  \\\n",
       "0  Q-10                          True                             False   \n",
       "1   Q-4                          True                             False   \n",
       "\n",
       "  (completion, cpl-rag-1, d9cf)  (completion, gpt-3.5-turbo, 580c)  \n",
       "0             Operation Citadel  The code name for the German o...  \n",
       "1                          1950  The author of The Victorians -...  "
      ]
     },
     "execution_count": 84,
     "metadata": {},
     "output_type": "execute_result"
    }
   ],
   "source": [
    "x = None\n",
    "if len(df.columns) == 0:\n",
    "    x = pd.DataFrame(df.index.to_list(), columns=df.index.names)\n",
    "else:\n",
    "    left = pd.DataFrame(df.index.to_list(), columns=df.index.names)\n",
    "    right = df.reset_index(drop=True)\n",
    "    x = pd.concat([left, right], axis=1)\n",
    "x"
   ]
  },
  {
   "cell_type": "code",
   "execution_count": 91,
   "metadata": {},
   "outputs": [],
   "source": [
    "# the answer was simple\n",
    "df.columns = ['\\n'.join(col) for col in df.columns]"
   ]
  },
  {
   "cell_type": "code",
   "execution_count": 93,
   "metadata": {},
   "outputs": [
    {
     "name": "stdout",
     "output_type": "stream",
     "text": [
      "| name   | grade_bool   | grade_bool      | completion        | completion                        |\n",
      "|        | cpl-rag-1    | gpt-3.5-turbo   | cpl-rag-1         | gpt-3.5-turbo                     |\n",
      "|        | d9cf         | 580c            | d9cf              | 580c                              |\n",
      "|:-------|:-------------|:----------------|:------------------|:----------------------------------|\n",
      "| Q-10   | True         | False           | Operation Citadel | The code name for the German o... |\n",
      "| Q-4    | True         | False           | 1950              | The author of The Victorians -... |\n"
     ]
    }
   ],
   "source": [
    "print(df.to_markdown())"
   ]
  },
  {
   "cell_type": "code",
   "execution_count": 86,
   "metadata": {},
   "outputs": [
    {
     "data": {
      "text/plain": [
       "MultiIndex([('grade_bool',     'cpl-rag-1', 'd9cf'),\n",
       "            ('grade_bool', 'gpt-3.5-turbo', '580c'),\n",
       "            ('completion',     'cpl-rag-1', 'd9cf'),\n",
       "            ('completion', 'gpt-3.5-turbo', '580c')],\n",
       "           names=[None, 'model_name', 'run_id'])"
      ]
     },
     "execution_count": 86,
     "metadata": {},
     "output_type": "execute_result"
    }
   ],
   "source": [
    "df.columns"
   ]
  },
  {
   "cell_type": "code",
   "execution_count": 107,
   "metadata": {},
   "outputs": [
    {
     "name": "stdout",
     "output_type": "stream",
     "text": [
      "### Model/RunIDs: rows where grade_bool has discrepancy \n",
      "\n",
      "| grade_bool   | grade_bool      | completion        | completion                        |\n",
      "| cpl-rag-1    | gpt-3.5-turbo   | cpl-rag-1         | gpt-3.5-turbo                     |\n",
      "| d9cf         | 580c            | d9cf              | 580c                              |\n",
      "|:-------------|:----------------|:------------------|:----------------------------------|\n",
      "| True         | False           | Operation Citadel | The code name for the German o... |\n",
      "| True         | False           | 1950              | The author of The Victorians -... |\n",
      "\n",
      "\n"
     ]
    }
   ],
   "source": [
    "# okay this is good\n",
    "s = do_discrepancies(data, is_full=True)\n",
    "print(s)"
   ]
  },
  {
   "cell_type": "code",
   "execution_count": 105,
   "metadata": {},
   "outputs": [],
   "source": [
    "# import question_by_runid_completion\n",
    "from lime.modules.views.agg.query import question_by_runid_completion\n",
    "df = question_by_runid_completion(data, add_index_cols=[])"
   ]
  },
  {
   "cell_type": "code",
   "execution_count": 98,
   "metadata": {},
   "outputs": [
    {
     "name": "stdout",
     "output_type": "stream",
     "text": [
      "                                    completion\n",
      "name run_id                                   \n",
      "Q-1  580c    At My Window was released by A...\n",
      "     d9cf                     Townes Van Zandt\n",
      "Q-10 580c    The code name for the German o...\n",
      "     d9cf                    Operation Citadel\n",
      "Q-2  580c    Candace Kita guest starred wit...\n",
      "     d9cf                            Nora Dunn\n",
      "Q-3  580c    Self was most recently publish...\n",
      "     d9cf                                 Self\n",
      "Q-4  580c    The author of The Victorians -...\n",
      "     d9cf                                 1950\n",
      "Q-5  580c    Tae Kwon Do Times has publishe...\n",
      "     d9cf                    Tae Kwon Do Times\n",
      "Q-6  580c    The club that played Mancheste...\n",
      "     d9cf                                 1874\n",
      "Q-7  580c    The Bank of America Tower is t...\n",
      "     d9cf                Empire State Building\n",
      "Q-8  580c                       Rosario Dawson\n",
      "     d9cf                       Rosario Dawson\n",
      "Q-9  580c    Tombstone starred actor Kurt R...\n",
      "     d9cf                        Michael Biehn\n"
     ]
    }
   ],
   "source": [
    "print(s)"
   ]
  },
  {
   "cell_type": "code",
   "execution_count": 87,
   "metadata": {},
   "outputs": [
    {
     "data": {
      "text/plain": [
       "Index([                                 'name',\n",
       "           ('grade_bool', 'cpl-rag-1', 'd9cf'),\n",
       "       ('grade_bool', 'gpt-3.5-turbo', '580c'),\n",
       "           ('completion', 'cpl-rag-1', 'd9cf'),\n",
       "       ('completion', 'gpt-3.5-turbo', '580c')],\n",
       "      dtype='object')"
      ]
     },
     "execution_count": 87,
     "metadata": {},
     "output_type": "execute_result"
    }
   ],
   "source": [
    "x.columns"
   ]
  },
  {
   "cell_type": "code",
   "execution_count": null,
   "metadata": {},
   "outputs": [],
   "source": []
  }
 ],
 "metadata": {
  "kernelspec": {
   "display_name": "venv",
   "language": "python",
   "name": "python3"
  },
  "language_info": {
   "codemirror_mode": {
    "name": "ipython",
    "version": 3
   },
   "file_extension": ".py",
   "mimetype": "text/x-python",
   "name": "python",
   "nbconvert_exporter": "python",
   "pygments_lexer": "ipython3",
   "version": "3.9.10"
  }
 },
 "nbformat": 4,
 "nbformat_minor": 2
}
