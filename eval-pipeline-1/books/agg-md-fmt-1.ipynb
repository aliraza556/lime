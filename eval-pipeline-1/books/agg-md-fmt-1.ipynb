{
 "cells": [
  {
   "cell_type": "code",
   "execution_count": 1,
   "metadata": {},
   "outputs": [],
   "source": [
    "import pandas as pd"
   ]
  },
  {
   "cell_type": "code",
   "execution_count": 2,
   "metadata": {},
   "outputs": [
    {
     "name": "stdout",
     "output_type": "stream",
     "text": [
      "|    |   a |   b |\n",
      "|---:|----:|----:|\n",
      "|  0 |   1 |   3 |\n",
      "|  1 |   2 |   4 |\n"
     ]
    }
   ],
   "source": [
    "tmp = pd.DataFrame({'a':[1,2], 'b':[3,4]})\n",
    "s_tbl = tmp.to_markdown( )\n",
    "print(s_tbl)"
   ]
  },
  {
   "cell_type": "code",
   "execution_count": 4,
   "metadata": {},
   "outputs": [],
   "source": [
    "import sys\n",
    "sys.path.append('../')\n",
    "from modules.agg.query import (\n",
    "    format_multi_index,\n",
    "    input_by_model,\n",
    "    all_sheets_all_questions,\n",
    "    sheet_by_model_pct_correct,\n",
    ")\n",
    "from modules.agg.collect import (\n",
    "    build_data\n",
    ")"
   ]
  },
  {
   "cell_type": "code",
   "execution_count": 5,
   "metadata": {},
   "outputs": [
    {
     "data": {
      "text/plain": [
       "(55, 11)"
      ]
     },
     "execution_count": 5,
     "metadata": {},
     "output_type": "execute_result"
    }
   ],
   "source": [
    "results_fp = '../../wordle-qa-2/results/'\n",
    "data = build_data(results_fp)\n",
    "data.shape"
   ]
  },
  {
   "cell_type": "code",
   "execution_count": 6,
   "metadata": {},
   "outputs": [
    {
     "data": {
      "text/html": [
       "<div>\n",
       "<style scoped>\n",
       "    .dataframe tbody tr th:only-of-type {\n",
       "        vertical-align: middle;\n",
       "    }\n",
       "\n",
       "    .dataframe tbody tr th {\n",
       "        vertical-align: top;\n",
       "    }\n",
       "\n",
       "    .dataframe thead th {\n",
       "        text-align: right;\n",
       "    }\n",
       "</style>\n",
       "<table border=\"1\" class=\"dataframe\">\n",
       "  <thead>\n",
       "    <tr style=\"text-align: right;\">\n",
       "      <th></th>\n",
       "      <th></th>\n",
       "    </tr>\n",
       "    <tr>\n",
       "      <th>input_name</th>\n",
       "      <th>name</th>\n",
       "    </tr>\n",
       "  </thead>\n",
       "  <tbody>\n",
       "    <tr>\n",
       "      <th rowspan=\"8\" valign=\"top\">JSON-state-reasoning-1</th>\n",
       "      <th>Reason-Current-Turn-Num</th>\n",
       "    </tr>\n",
       "    <tr>\n",
       "      <th>Reason-Letters-Guessed</th>\n",
       "    </tr>\n",
       "    <tr>\n",
       "      <th>Reason-Letters-Guessed-2</th>\n",
       "    </tr>\n",
       "    <tr>\n",
       "      <th>Reason-Win</th>\n",
       "    </tr>\n",
       "    <tr>\n",
       "      <th>Reason-Win-2</th>\n",
       "    </tr>\n",
       "    <tr>\n",
       "      <th>Reason-Win-3</th>\n",
       "    </tr>\n",
       "    <tr>\n",
       "      <th>Reason-Words-Guessed</th>\n",
       "    </tr>\n",
       "    <tr>\n",
       "      <th>Reason-Words-Guessed-2</th>\n",
       "    </tr>\n",
       "    <tr>\n",
       "      <th rowspan=\"7\" valign=\"top\">Rule-QA-1</th>\n",
       "      <th>Mechanics-Basic-Reasoning-1</th>\n",
       "    </tr>\n",
       "    <tr>\n",
       "      <th>Mechanics-Guess-Valid-Word</th>\n",
       "    </tr>\n",
       "    <tr>\n",
       "      <th>Mechanics-Multiletter-1</th>\n",
       "    </tr>\n",
       "    <tr>\n",
       "      <th>Num-Guesses-1</th>\n",
       "    </tr>\n",
       "    <tr>\n",
       "      <th>Num-Letter-1</th>\n",
       "    </tr>\n",
       "    <tr>\n",
       "      <th>Terminology-Absent-1</th>\n",
       "    </tr>\n",
       "    <tr>\n",
       "      <th>Terminology-Present-1</th>\n",
       "    </tr>\n",
       "    <tr>\n",
       "      <th>What Shows Up</th>\n",
       "      <th>Q-1</th>\n",
       "    </tr>\n",
       "  </tbody>\n",
       "</table>\n",
       "</div>"
      ],
      "text/plain": [
       "Empty DataFrame\n",
       "Columns: []\n",
       "Index: [(JSON-state-reasoning-1, Reason-Current-Turn-Num), (JSON-state-reasoning-1, Reason-Letters-Guessed), (JSON-state-reasoning-1, Reason-Letters-Guessed-2), (JSON-state-reasoning-1, Reason-Win), (JSON-state-reasoning-1, Reason-Win-2), (JSON-state-reasoning-1, Reason-Win-3), (JSON-state-reasoning-1, Reason-Words-Guessed), (JSON-state-reasoning-1, Reason-Words-Guessed-2), (Rule-QA-1, Mechanics-Basic-Reasoning-1), (Rule-QA-1, Mechanics-Guess-Valid-Word), (Rule-QA-1, Mechanics-Multiletter-1), (Rule-QA-1, Num-Guesses-1), (Rule-QA-1, Num-Letter-1), (Rule-QA-1, Terminology-Absent-1), (Rule-QA-1, Terminology-Present-1), (What Shows Up, Q-1)]"
      ]
     },
     "execution_count": 6,
     "metadata": {},
     "output_type": "execute_result"
    }
   ],
   "source": [
    "df = all_sheets_all_questions(data)\n",
    "df"
   ]
  },
  {
   "cell_type": "code",
   "execution_count": 7,
   "metadata": {},
   "outputs": [
    {
     "name": "stdout",
     "output_type": "stream",
     "text": [
      "|:-------------------------------------------------------|\n",
      "| ('JSON-state-reasoning-1', 'Reason-Current-Turn-Num')  |\n",
      "| ('JSON-state-reasoning-1', 'Reason-Letters-Guessed')   |\n",
      "| ('JSON-state-reasoning-1', 'Reason-Letters-Guessed-2') |\n",
      "| ('JSON-state-reasoning-1', 'Reason-Win')               |\n",
      "| ('JSON-state-reasoning-1', 'Reason-Win-2')             |\n",
      "| ('JSON-state-reasoning-1', 'Reason-Win-3')             |\n",
      "| ('JSON-state-reasoning-1', 'Reason-Words-Guessed')     |\n",
      "| ('JSON-state-reasoning-1', 'Reason-Words-Guessed-2')   |\n",
      "| ('Rule-QA-1', 'Mechanics-Basic-Reasoning-1')           |\n",
      "| ('Rule-QA-1', 'Mechanics-Guess-Valid-Word')            |\n",
      "| ('Rule-QA-1', 'Mechanics-Multiletter-1')               |\n",
      "| ('Rule-QA-1', 'Num-Guesses-1')                         |\n",
      "| ('Rule-QA-1', 'Num-Letter-1')                          |\n",
      "| ('Rule-QA-1', 'Terminology-Absent-1')                  |\n",
      "| ('Rule-QA-1', 'Terminology-Present-1')                 |\n",
      "| ('What Shows Up', 'Q-1')                               |\n"
     ]
    }
   ],
   "source": [
    "# bad - multiindex displays as tuples\n",
    "print(df.to_markdown())"
   ]
  },
  {
   "cell_type": "code",
   "execution_count": 9,
   "metadata": {},
   "outputs": [
    {
     "name": "stdout",
     "output_type": "stream",
     "text": [
      "| input_name             | name                        |\n",
      "|:-----------------------|:----------------------------|\n",
      "| JSON-state-reasoning-1 | Reason-Current-Turn-Num     |\n",
      "| JSON-state-reasoning-1 | Reason-Letters-Guessed      |\n",
      "| JSON-state-reasoning-1 | Reason-Letters-Guessed-2    |\n",
      "| JSON-state-reasoning-1 | Reason-Win                  |\n",
      "| JSON-state-reasoning-1 | Reason-Win-2                |\n",
      "| JSON-state-reasoning-1 | Reason-Win-3                |\n",
      "| JSON-state-reasoning-1 | Reason-Words-Guessed        |\n",
      "| JSON-state-reasoning-1 | Reason-Words-Guessed-2      |\n",
      "| Rule-QA-1              | Mechanics-Basic-Reasoning-1 |\n",
      "| Rule-QA-1              | Mechanics-Guess-Valid-Word  |\n",
      "| Rule-QA-1              | Mechanics-Multiletter-1     |\n",
      "| Rule-QA-1              | Num-Guesses-1               |\n",
      "| Rule-QA-1              | Num-Letter-1                |\n",
      "| Rule-QA-1              | Terminology-Absent-1        |\n",
      "| Rule-QA-1              | Terminology-Present-1       |\n",
      "| What Shows Up          | Q-1                         |\n"
     ]
    }
   ],
   "source": [
    "# fixed - multiindex displays as separate cols\n",
    "print(format_multi_index(df).to_markdown(index=False))"
   ]
  },
  {
   "cell_type": "code",
   "execution_count": null,
   "metadata": {},
   "outputs": [],
   "source": []
  }
 ],
 "metadata": {
  "kernelspec": {
   "display_name": "venv",
   "language": "python",
   "name": "python3"
  },
  "language_info": {
   "codemirror_mode": {
    "name": "ipython",
    "version": 3
   },
   "file_extension": ".py",
   "mimetype": "text/x-python",
   "name": "python",
   "nbconvert_exporter": "python",
   "pygments_lexer": "ipython3",
   "version": "3.9.10"
  }
 },
 "nbformat": 4,
 "nbformat_minor": 2
}
