{
 "cells": [
  {
   "cell_type": "markdown",
   "metadata": {},
   "source": [
    "## Prototype Notebook\n",
    "2.28.24"
   ]
  },
  {
   "cell_type": "code",
   "execution_count": 11,
   "metadata": {},
   "outputs": [],
   "source": [
    "import pandas as pd\n",
    "from lime.modules.views.agg.collect import build_data\n",
    "from lime.modules.views.agg.query import (\n",
    "    sheet_by_model_pct_correct,\n",
    "    all_sheets_all_questions,\n",
    "    input_by_model,\n",
    "    format_multi_index,\n",
    ")\n"
   ]
  },
  {
   "cell_type": "code",
   "execution_count": 79,
   "metadata": {},
   "outputs": [
    {
     "name": "stdout",
     "output_type": "stream",
     "text": [
      "complete1.md\n",
      "input-variable-1.md\n",
      "input-variable-2.md\n",
      "output-variable-1-gpt-3.5-turbo-3df9.json\n",
      "output-variable-1-mistral_hf_7b-3922.json\n",
      "output-variable-1-mistral_hf_7b-aad1.json\n",
      "output-variable-2-gpt-3.5-turbo-3df9.json\n",
      "output-variable-2-gpt-3.5-turbo-5673.json\n",
      "output-variable-2-gpt-3.5-turbo-aee0.json\n",
      "output-variable-2-mistral_hf_7b-077d.json\n",
      "output-variable-2-mistral_hf_7b-5685.json\n",
      "output-variable-2-mistral_hf_7b-b001.json\n",
      "output-variable-2-mistral_hf_7b-f3cf.json\n",
      "tmp\n"
     ]
    }
   ],
   "source": [
    "results_fp = '../../datasets/tmp/newsheet/'\n",
    "!ls {results_fp}"
   ]
  },
  {
   "cell_type": "code",
   "execution_count": 76,
   "metadata": {},
   "outputs": [],
   "source": [
    "data = build_data(results_fp)"
   ]
  },
  {
   "cell_type": "code",
   "execution_count": 77,
   "metadata": {},
   "outputs": [
    {
     "data": {
      "text/plain": [
       "name             object\n",
       "meta_data        object\n",
       "gen_params       object\n",
       "ground_truth     object\n",
       "question_usr     object\n",
       "question_sys     object\n",
       "completion       object\n",
       "error            object\n",
       "eval_time       float64\n",
       "ntokens_usr      object\n",
       "ntokens          object\n",
       "grade_style      object\n",
       "grade_bool       object\n",
       "grade_error      object\n",
       "grade_metric     object\n",
       "grade_detail     object\n",
       "input_name       object\n",
       "input_fn         object\n",
       "model_name       object\n",
       "run_id           object\n",
       "dtype: object"
      ]
     },
     "execution_count": 77,
     "metadata": {},
     "output_type": "execute_result"
    }
   ],
   "source": [
    "data.dtypes"
   ]
  },
  {
   "cell_type": "code",
   "execution_count": 78,
   "metadata": {},
   "outputs": [
    {
     "data": {
      "text/html": [
       "<div>\n",
       "<style scoped>\n",
       "    .dataframe tbody tr th:only-of-type {\n",
       "        vertical-align: middle;\n",
       "    }\n",
       "\n",
       "    .dataframe tbody tr th {\n",
       "        vertical-align: top;\n",
       "    }\n",
       "\n",
       "    .dataframe thead th {\n",
       "        text-align: right;\n",
       "    }\n",
       "</style>\n",
       "<table border=\"1\" class=\"dataframe\">\n",
       "  <thead>\n",
       "    <tr style=\"text-align: right;\">\n",
       "      <th></th>\n",
       "      <th>name</th>\n",
       "      <th>meta_data</th>\n",
       "      <th>gen_params</th>\n",
       "      <th>ground_truth</th>\n",
       "      <th>question_usr</th>\n",
       "      <th>question_sys</th>\n",
       "      <th>completion</th>\n",
       "      <th>error</th>\n",
       "      <th>eval_time</th>\n",
       "      <th>ntokens_usr</th>\n",
       "      <th>ntokens</th>\n",
       "      <th>grade_style</th>\n",
       "      <th>grade_bool</th>\n",
       "      <th>grade_error</th>\n",
       "      <th>grade_metric</th>\n",
       "      <th>grade_detail</th>\n",
       "      <th>input_name</th>\n",
       "      <th>input_fn</th>\n",
       "      <th>model_name</th>\n",
       "      <th>run_id</th>\n",
       "    </tr>\n",
       "  </thead>\n",
       "  <tbody>\n",
       "    <tr>\n",
       "      <th>0</th>\n",
       "      <td>Q-1</td>\n",
       "      <td>{'temperature': '1.0', 'seed': '1'}</td>\n",
       "      <td>{'temperature': 1.0, 'seed': 1}</td>\n",
       "      <td></td>\n",
       "      <td></td>\n",
       "      <td>List 3 good places to visit in the world.\\n</td>\n",
       "      <td>None</td>\n",
       "      <td>submit_prompt() got an unexpected keyword argu...</td>\n",
       "      <td>0.357762</td>\n",
       "      <td>None</td>\n",
       "      <td>{'usr': 0, 'sys': 11, 'cmp': -1}</td>\n",
       "      <td>fuzzy</td>\n",
       "      <td>None</td>\n",
       "      <td>None</td>\n",
       "      <td>None</td>\n",
       "      <td>None</td>\n",
       "      <td>Variable-1</td>\n",
       "      <td>./input-variable-1.md</td>\n",
       "      <td>gpt-3.5-turbo</td>\n",
       "      <td>3df9</td>\n",
       "    </tr>\n",
       "    <tr>\n",
       "      <th>1</th>\n",
       "      <td>Q-2</td>\n",
       "      <td>{'temperature': '1.0', 'seed': '1'}</td>\n",
       "      <td>{'temperature': 1.0, 'seed': 1}</td>\n",
       "      <td></td>\n",
       "      <td></td>\n",
       "      <td>List 3 good places to visit in the world.\\n</td>\n",
       "      <td>None</td>\n",
       "      <td>submit_prompt() got an unexpected keyword argu...</td>\n",
       "      <td>0.000000</td>\n",
       "      <td>None</td>\n",
       "      <td>{'usr': 0, 'sys': 11, 'cmp': -1}</td>\n",
       "      <td>fuzzy</td>\n",
       "      <td>None</td>\n",
       "      <td>None</td>\n",
       "      <td>None</td>\n",
       "      <td>None</td>\n",
       "      <td>Variable-1</td>\n",
       "      <td>./input-variable-1.md</td>\n",
       "      <td>gpt-3.5-turbo</td>\n",
       "      <td>3df9</td>\n",
       "    </tr>\n",
       "    <tr>\n",
       "      <th>0</th>\n",
       "      <td>Q-1</td>\n",
       "      <td>{'temperature': '1.0', 'seed': '1'}</td>\n",
       "      <td>{'temperature': 1.0, 'seed': 1}</td>\n",
       "      <td></td>\n",
       "      <td></td>\n",
       "      <td>List 3 good places to visit in the world.\\n</td>\n",
       "      <td>Based on their natural beauty, cultural signi...</td>\n",
       "      <td>None</td>\n",
       "      <td>12.721616</td>\n",
       "      <td>None</td>\n",
       "      <td>{'usr': 1, 'sys': 13, 'cmp': 52}</td>\n",
       "      <td>fuzzy</td>\n",
       "      <td>True</td>\n",
       "      <td>None</td>\n",
       "      <td>None</td>\n",
       "      <td>None</td>\n",
       "      <td>Variable-1</td>\n",
       "      <td>input-variable-1.md</td>\n",
       "      <td>mistral_hf_7b</td>\n",
       "      <td>3922</td>\n",
       "    </tr>\n",
       "  </tbody>\n",
       "</table>\n",
       "</div>"
      ],
      "text/plain": [
       "  name                            meta_data                       gen_params  \\\n",
       "0  Q-1  {'temperature': '1.0', 'seed': '1'}  {'temperature': 1.0, 'seed': 1}   \n",
       "1  Q-2  {'temperature': '1.0', 'seed': '1'}  {'temperature': 1.0, 'seed': 1}   \n",
       "0  Q-1  {'temperature': '1.0', 'seed': '1'}  {'temperature': 1.0, 'seed': 1}   \n",
       "\n",
       "  ground_truth question_usr                                 question_sys  \\\n",
       "0                            List 3 good places to visit in the world.\\n   \n",
       "1                            List 3 good places to visit in the world.\\n   \n",
       "0                            List 3 good places to visit in the world.\\n   \n",
       "\n",
       "                                          completion  \\\n",
       "0                                               None   \n",
       "1                                               None   \n",
       "0   Based on their natural beauty, cultural signi...   \n",
       "\n",
       "                                               error  eval_time ntokens_usr  \\\n",
       "0  submit_prompt() got an unexpected keyword argu...   0.357762        None   \n",
       "1  submit_prompt() got an unexpected keyword argu...   0.000000        None   \n",
       "0                                               None  12.721616        None   \n",
       "\n",
       "                            ntokens grade_style grade_bool grade_error  \\\n",
       "0  {'usr': 0, 'sys': 11, 'cmp': -1}       fuzzy       None        None   \n",
       "1  {'usr': 0, 'sys': 11, 'cmp': -1}       fuzzy       None        None   \n",
       "0  {'usr': 1, 'sys': 13, 'cmp': 52}       fuzzy       True        None   \n",
       "\n",
       "  grade_metric grade_detail  input_name               input_fn     model_name  \\\n",
       "0         None         None  Variable-1  ./input-variable-1.md  gpt-3.5-turbo   \n",
       "1         None         None  Variable-1  ./input-variable-1.md  gpt-3.5-turbo   \n",
       "0         None         None  Variable-1    input-variable-1.md  mistral_hf_7b   \n",
       "\n",
       "  run_id  \n",
       "0   3df9  \n",
       "1   3df9  \n",
       "0   3922  "
      ]
     },
     "execution_count": 78,
     "metadata": {},
     "output_type": "execute_result"
    }
   ],
   "source": [
    "data.head(3)"
   ]
  },
  {
   "cell_type": "code",
   "execution_count": 32,
   "metadata": {},
   "outputs": [],
   "source": [
    "def justify(text, width=None):\n",
    "    if width is None:\n",
    "        return text\n",
    "    try:\n",
    "        fmt_text = ''\n",
    "        words = text.split(' ')\n",
    "        while len(words) > 0:\n",
    "            line = ''\n",
    "            while len(words) > 0 and len(line) + len(words[0]) < width:\n",
    "                line += words.pop(0) + ' '\n",
    "            fmt_text += line + '<br>'\n",
    "        return fmt_text\n",
    "    except:\n",
    "        return 'error in justify'\n",
    "        "
   ]
  },
  {
   "cell_type": "code",
   "execution_count": 43,
   "metadata": {},
   "outputs": [
    {
     "data": {
      "text/plain": [
       "True"
      ]
     },
     "execution_count": 43,
     "metadata": {},
     "output_type": "execute_result"
    }
   ],
   "source": [
    "df.dtypes.get('completion') == 'object'"
   ]
  },
  {
   "cell_type": "code",
   "execution_count": 46,
   "metadata": {},
   "outputs": [],
   "source": [
    "from typing import List, Dict, Any"
   ]
  },
  {
   "cell_type": "code",
   "execution_count": 50,
   "metadata": {},
   "outputs": [],
   "source": [
    "def fmt_text_field(\n",
    "        df: pd.DataFrame, \n",
    "        col_name: str,\n",
    "        replaces: list = [], # TODO - fix\n",
    "        max_width: int = None,\n",
    "        max_height: int = None,\n",
    "        max_chars: int = None,\n",
    "    ) -> pd.DataFrame:\n",
    "    if df.dtypes.get(col_name) != 'object':\n",
    "        Warning(f'Column {col_name} is not an object type')\n",
    "        return df\n",
    "    texts = df[col_name]\n",
    "    if max_width:\n",
    "        texts = texts.str.wrap(max_width)\n",
    "    if max_height:\n",
    "        texts = texts.map(lambda x: '\\n'.join(x.split('\\n')[:max_height]))\n",
    "    if max_chars:\n",
    "        texts = texts.map(lambda x: x[:max_chars] + '...' if len(x) > max_chars else '')\n",
    "    for replace in replaces:\n",
    "        target, replacement = replace\n",
    "        texts = texts.str.replace(target, replacement, regex=False)\n",
    "    df[col_name] = texts\n",
    "    return df"
   ]
  },
  {
   "cell_type": "code",
   "execution_count": 52,
   "metadata": {},
   "outputs": [
    {
     "data": {
      "text/plain": [
       "\"When converting data to a Markdown table using pandas' to_markdown method, line breaks within a cell can indeed cause formatting issues, as Markdown tables generally don't support multi-line rows well. However, you can use HTML within Markdown to some extent, depending on the Markdown renderer you're using. One workaround is to replace line breaks in your completion column with <br> HTML tags before converting the DataFrame to Markdown. This approach allows you to display the content with visual line breaks when rendered in environments that support HTML within Markdo\""
      ]
     },
     "execution_count": 52,
     "metadata": {},
     "output_type": "execute_result"
    }
   ],
   "source": [
    "text"
   ]
  },
  {
   "cell_type": "code",
   "execution_count": 53,
   "metadata": {},
   "outputs": [],
   "source": []
  },
  {
   "cell_type": "code",
   "execution_count": 71,
   "metadata": {},
   "outputs": [
    {
     "name": "stdout",
     "output_type": "stream",
     "text": [
      "When converting data to a\n",
      "Markdown table using pandas'\n",
      "to_markdown method, line\n"
     ]
    }
   ],
   "source": [
    "data = pd.DataFrame({'a': [text, text]})\n",
    "\n",
    "out = fmt_text_field(\n",
    "        data,\n",
    "        'a',\n",
    "        # max_chars=100\n",
    "        max_width=30,\n",
    "        max_height=3,\n",
    "        # replaces=[('\\n', '<br>')],\n",
    "    )\n",
    "\n",
    "print(out.a[0])"
   ]
  },
  {
   "cell_type": "code",
   "execution_count": 39,
   "metadata": {},
   "outputs": [
    {
     "name": "stdout",
     "output_type": "stream",
     "text": [
      "When converting data\n",
      "to a Markdown table\n",
      "using pandas'\n",
      "to_markdown method,\n",
      "line breaks within a\n",
      "cell can indeed\n",
      "cause formatting\n",
      "issues, as Markdown\n",
      "tables generally\n",
      "don't support multi-\n",
      "line rows well.\n",
      "However, you can use\n",
      "HTML within Markdown\n",
      "to some extent,\n",
      "depending on the\n",
      "Markdown renderer\n",
      "you're using. One\n",
      "workaround is to\n",
      "replace line breaks\n",
      "in your completion\n",
      "column with <br>\n",
      "HTML tags before\n",
      "converting the\n",
      "DataFrame to\n",
      "Markdown. This\n",
      "approach allows you\n",
      "to display the\n",
      "content with visual\n",
      "line breaks when\n",
      "rendered in\n",
      "environments that\n",
      "support HTML within\n",
      "Markdo\n"
     ]
    }
   ],
   "source": [
    "print(pd.Series(text).str.wrap(20)[0])"
   ]
  },
  {
   "cell_type": "code",
   "execution_count": 33,
   "metadata": {},
   "outputs": [
    {
     "name": "stdout",
     "output_type": "stream",
     "text": [
      "When converting data to a <br>Markdown table using pandas' <br>to_markdown method, line <br>breaks within a cell can <br>indeed cause formatting <br>issues, as Markdown tables <br>generally don't support <br>multi-line rows well. <br>However, you can use HTML <br>within Markdown to some <br>extent, depending on the <br>Markdown renderer you're <br>using. One workaround is to <br>replace line breaks in your <br>completion column with <br> <br>HTML tags before converting <br>the DataFrame to Markdown. <br>This approach allows you to <br>display the content with <br>visual line breaks when <br>rendered in environments that <br>support HTML within Markdo <br>\n"
     ]
    }
   ],
   "source": [
    "text = \"\"\"When converting data to a Markdown table using pandas' to_markdown method, line breaks within a cell can indeed cause formatting issues, as Markdown tables generally don't support multi-line rows well. However, you can use HTML within Markdown to some extent, depending on the Markdown renderer you're using. One workaround is to replace line breaks in your completion column with <br> HTML tags before converting the DataFrame to Markdown. This approach allows you to display the content with visual line breaks when rendered in environments that support HTML within Markdo\"\"\"\n",
    "print(justify(text, 30))"
   ]
  },
  {
   "cell_type": "code",
   "execution_count": null,
   "metadata": {},
   "outputs": [],
   "source": []
  },
  {
   "cell_type": "code",
   "execution_count": null,
   "metadata": {},
   "outputs": [],
   "source": [
    "def shorten_text(text, max_chars=30):\n",
    "    if len(text) > max_chars:\n",
    "        return text[:max_chars] + '...'\n",
    "    else:\n",
    "        return text"
   ]
  },
  {
   "cell_type": "code",
   "execution_count": 36,
   "metadata": {},
   "outputs": [
    {
     "name": "stdout",
     "output_type": "stream",
     "text": [
      "['name', 'run_id']\n"
     ]
    },
    {
     "data": {
      "text/html": [
       "<div>\n",
       "<style scoped>\n",
       "    .dataframe tbody tr th:only-of-type {\n",
       "        vertical-align: middle;\n",
       "    }\n",
       "\n",
       "    .dataframe tbody tr th {\n",
       "        vertical-align: top;\n",
       "    }\n",
       "\n",
       "    .dataframe thead th {\n",
       "        text-align: right;\n",
       "    }\n",
       "</style>\n",
       "<table border=\"1\" class=\"dataframe\">\n",
       "  <thead>\n",
       "    <tr style=\"text-align: right;\">\n",
       "      <th></th>\n",
       "      <th></th>\n",
       "      <th>completion</th>\n",
       "    </tr>\n",
       "    <tr>\n",
       "      <th>name</th>\n",
       "      <th>run_id</th>\n",
       "      <th></th>\n",
       "    </tr>\n",
       "  </thead>\n",
       "  <tbody>\n",
       "    <tr>\n",
       "      <th rowspan=\"4\" valign=\"top\">Q-1</th>\n",
       "      <th>077d</th>\n",
       "      <td>1. Paris, France: Known as the \"City of Light...</td>\n",
       "    </tr>\n",
       "    <tr>\n",
       "      <th>5685</th>\n",
       "      <td>1. Paris, France: Known as the \"City of Light...</td>\n",
       "    </tr>\n",
       "    <tr>\n",
       "      <th>b001</th>\n",
       "      <td>1. Paris, France: Known as the \"City of Light...</td>\n",
       "    </tr>\n",
       "    <tr>\n",
       "      <th>f3cf</th>\n",
       "      <td>1. Paris, France: Known as the \"City of Light...</td>\n",
       "    </tr>\n",
       "    <tr>\n",
       "      <th rowspan=\"4\" valign=\"top\">Q-2</th>\n",
       "      <th>077d</th>\n",
       "      <td>1. Ava: This name is of Hebrew origin and mea...</td>\n",
       "    </tr>\n",
       "    <tr>\n",
       "      <th>5685</th>\n",
       "      <td>1. Ava: This name is of Hebrew origin and mea...</td>\n",
       "    </tr>\n",
       "    <tr>\n",
       "      <th>b001</th>\n",
       "      <td>1. Ava: This name means \"life\" or \"breath\" in...</td>\n",
       "    </tr>\n",
       "    <tr>\n",
       "      <th>f3cf</th>\n",
       "      <td>1. Ava: This name is derived from the Hebrew ...</td>\n",
       "    </tr>\n",
       "  </tbody>\n",
       "</table>\n",
       "</div>"
      ],
      "text/plain": [
       "                                                    completion\n",
       "name run_id                                                   \n",
       "Q-1  077d     1. Paris, France: Known as the \"City of Light...\n",
       "     5685     1. Paris, France: Known as the \"City of Light...\n",
       "     b001     1. Paris, France: Known as the \"City of Light...\n",
       "     f3cf     1. Paris, France: Known as the \"City of Light...\n",
       "Q-2  077d     1. Ava: This name is of Hebrew origin and mea...\n",
       "     5685     1. Ava: This name is of Hebrew origin and mea...\n",
       "     b001     1. Ava: This name means \"life\" or \"breath\" in...\n",
       "     f3cf     1. Ava: This name is derived from the Hebrew ..."
      ]
     },
     "execution_count": 36,
     "metadata": {},
     "output_type": "execute_result"
    }
   ],
   "source": [
    "data = build_data(results_fp)\n",
    "\n",
    "data['completion'] = data['completion'].str.replace('\\n', '<br>', regex=False)\n",
    "\n",
    "max_chars = 50\n",
    "data['completion'] = data['completion'].map(lambda text: justify(text, max_chars))\n",
    "\n",
    "data = data[data.input_name == 'Variable-2']\n",
    "data = data[data.model_name == 'mistral_hf_7b']\n",
    "index_cols = ['name', 'run_id']\n",
    "# index_cols += ['gen_params']\n",
    "# index_cols += ['grade_style']\n",
    "print(index_cols)\n",
    "df = (data\n",
    "    .groupby(by=index_cols)\n",
    "    .agg({\n",
    "        'completion': lambda x: ''.join(x),\n",
    "        \n",
    "    })\n",
    ")\n",
    "df"
   ]
  },
  {
   "cell_type": "code",
   "execution_count": 28,
   "metadata": {},
   "outputs": [
    {
     "name": "stdout",
     "output_type": "stream",
     "text": [
      "| name   | run_id   | completion                                                                                                                                                                                                                                |\n",
      "|:-------|:---------|:------------------------------------------------------------------------------------------------------------------------------------------------------------------------------------------------------------------------------------------|\n",
      "| Q-1    | 077d     | 1. Paris, France: Known as the \"City of Light,\" <br>Paris is famous for its iconic landmarks such as <br>the Eiffel Tower, Louvre Museum, Notre-Dame <br>Cathedral, and Montmartre. <br>                                                  |\n",
      "| Q-1    | 5685     | 1. Paris, France: Known as the \"City of Light,\" <br>Paris is famous for its iconic landmarks such as <br>the Eiffel Tower, Louvre Museum, Notre-Dame <br>Cathedral, and Montmartre. <br>                                                  |\n",
      "| Q-1    | b001     | 1. Paris, France: Known as the \"City of Light,\" <br>Paris is famous for its iconic landmarks such as <br>the Eiffel Tower, Louvre Museum, Notre Dame <br>Cathedral, and Champs-Ély <br>                                                   |\n",
      "| Q-1    | f3cf     | 1. Paris, France: Known as the \"City of Light,\" <br>Paris is renowned for its art, culture, and <br>romantic atmosphere. Some must-visit attractions <br>include the Eiffel Tower, Louvre Museum, Notre- <br>                             |\n",
      "| Q-2    | 077d     | 1. Ava: This name is of Hebrew origin and means <br>\"life\" or \"breath.\" It's a popular name for both <br>girls and boys, but more commonly used for <br>girls.<br><br>2. Oliver: This name <br>                                           |\n",
      "| Q-2    | 5685     | 1. Ava: This name is of Hebrew origin and means <br>\"life\" or \"breath.\" It's a popular name for both <br>girls and boys, but more commonly used for <br>girls.<br><br>2. Oliver: This name <br>                                           |\n",
      "| Q-2    | b001     | 1. Ava: This name means \"life\" or \"breath\" in <br>Hebrew and is a popular name for baby girls. It's <br>simple, elegant, and timeless.<br><br>2. Oliver: <br>This name means \" <br>                                                       |\n",
      "| Q-2    | f3cf     | 1. Ava: This name is derived from the Hebrew <br>origin meaning \"life\" or \"breath.\" It is a <br>popular and timeless name that has been <br>consistently ranked among the top baby names for <br>girls in various countries.<br><br> <br> |\n"
     ]
    }
   ],
   "source": [
    "print(format_multi_index(df).to_markdown(index=False))"
   ]
  },
  {
   "cell_type": "code",
   "execution_count": 10,
   "metadata": {},
   "outputs": [
    {
     "name": "stdout",
     "output_type": "stream",
     "text": [
      "|                 | completion                                                                                                                                                                                                   |\n",
      "|:----------------|:-------------------------------------------------------------------------------------------------------------------------------------------------------------------------------------------------------------|\n",
      "| ('Q-1', '077d') | 1. Paris, France: Known as the \"City of Light,\" Paris is famous for its iconic landmarks such as the Eiffel Tower, Louvre Museum, Notre-Dame Cathedral, and Montmartre.                                      |\n",
      "| ('Q-1', '5685') | 1. Paris, France: Known as the \"City of Light,\" Paris is famous for its iconic landmarks such as the Eiffel Tower, Louvre Museum, Notre-Dame Cathedral, and Montmartre.                                      |\n",
      "| ('Q-1', 'b001') | 1. Paris, France: Known as the \"City of Light,\" Paris is famous for its iconic landmarks such as the Eiffel Tower, Louvre Museum, Notre Dame Cathedral, and Champs-Ély                                       |\n",
      "| ('Q-1', 'f3cf') | 1. Paris, France: Known as the \"City of Light,\" Paris is renowned for its art, culture, and romantic atmosphere. Some must-visit attractions include the Eiffel Tower, Louvre Museum, Notre-                 |\n",
      "| ('Q-2', '077d') | 1. Ava: This name is of Hebrew origin and means \"life\" or \"breath.\" It's a popular name for both girls and boys, but more commonly used for girls.                                                           |\n",
      "|                 |                                                                                                                                                                                                              |\n",
      "|                 | 2. Oliver: This name                                                                                                                                                                                         |\n",
      "| ('Q-2', '5685') | 1. Ava: This name is of Hebrew origin and means \"life\" or \"breath.\" It's a popular name for both girls and boys, but more commonly used for girls.                                                           |\n",
      "|                 |                                                                                                                                                                                                              |\n",
      "|                 | 2. Oliver: This name                                                                                                                                                                                         |\n",
      "| ('Q-2', 'b001') | 1. Ava: This name means \"life\" or \"breath\" in Hebrew and is a popular name for baby girls. It's simple, elegant, and timeless.                                                                               |\n",
      "|                 |                                                                                                                                                                                                              |\n",
      "|                 | 2. Oliver: This name means \"                                                                                                                                                                                 |\n",
      "| ('Q-2', 'f3cf') | 1. Ava: This name is derived from the Hebrew origin meaning \"life\" or \"breath.\" It is a popular and timeless name that has been consistently ranked among the top baby names for girls in various countries. |\n"
     ]
    }
   ],
   "source": [
    "print(df.to_markdown())"
   ]
  },
  {
   "cell_type": "code",
   "execution_count": null,
   "metadata": {},
   "outputs": [],
   "source": []
  }
 ],
 "metadata": {
  "kernelspec": {
   "display_name": "venv",
   "language": "python",
   "name": "python3"
  },
  "language_info": {
   "codemirror_mode": {
    "name": "ipython",
    "version": 3
   },
   "file_extension": ".py",
   "mimetype": "text/x-python",
   "name": "python",
   "nbconvert_exporter": "python",
   "pygments_lexer": "ipython3",
   "version": "3.9.10"
  }
 },
 "nbformat": 4,
 "nbformat_minor": 2
}
