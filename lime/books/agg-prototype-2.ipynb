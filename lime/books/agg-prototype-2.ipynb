{
 "cells": [
  {
   "cell_type": "markdown",
   "metadata": {},
   "source": [
    "## Prototype Notebook\n",
    "\n",
    "1.31.24"
   ]
  },
  {
   "cell_type": "code",
   "execution_count": 1,
   "metadata": {},
   "outputs": [],
   "source": [
    "import os\n",
    "import pandas as pd\n",
    "import json\n",
    "\n",
    "results_fp = '../../../datasets/tmp/cake/'\n",
    "model_names = ['gpt-3.5-turbo', 'gpt-4', 'llama_13b_chat']"
   ]
  },
  {
   "cell_type": "code",
   "execution_count": 2,
   "metadata": {},
   "outputs": [
    {
     "name": "stdout",
     "output_type": "stream",
     "text": [
      "input-common-sense-1.md\n",
      "input-common-sense-2.md\n",
      "output-common-sense-1-gpt-3.5-turbo-3749.json\n",
      "output-common-sense-2-gpt-3.5-turbo-3749.json\n",
      "readme.md\n"
     ]
    }
   ],
   "source": [
    "!ls {results_fp}"
   ]
  },
  {
   "cell_type": "markdown",
   "metadata": {},
   "source": [
    "### Collation + Parsing section"
   ]
  },
  {
   "cell_type": "code",
   "execution_count": 3,
   "metadata": {},
   "outputs": [
    {
     "data": {
      "text/plain": [
       "['output-common-sense-1-gpt-3.5-turbo-3749.json',\n",
       " 'output-common-sense-2-gpt-3.5-turbo-3749.json']"
      ]
     },
     "execution_count": 3,
     "metadata": {},
     "output_type": "execute_result"
    }
   ],
   "source": [
    "def get_json_result_fns(results_fp):\n",
    "    results = os.listdir(results_fp)\n",
    "    results = [r for r in results if r.endswith('.json')]\n",
    "    results = [r for r in results if r.startswith('output')]\n",
    "    return results\n",
    "\n",
    "result_fns = get_json_result_fns(results_fp)\n",
    "result_fns"
   ]
  },
  {
   "cell_type": "code",
   "execution_count": 4,
   "metadata": {},
   "outputs": [
    {
     "data": {
      "text/html": [
       "<div>\n",
       "<style scoped>\n",
       "    .dataframe tbody tr th:only-of-type {\n",
       "        vertical-align: middle;\n",
       "    }\n",
       "\n",
       "    .dataframe tbody tr th {\n",
       "        vertical-align: top;\n",
       "    }\n",
       "\n",
       "    .dataframe thead th {\n",
       "        text-align: right;\n",
       "    }\n",
       "</style>\n",
       "<table border=\"1\" class=\"dataframe\">\n",
       "  <thead>\n",
       "    <tr style=\"text-align: right;\">\n",
       "      <th></th>\n",
       "      <th>name</th>\n",
       "      <th>meta_data</th>\n",
       "      <th>ground_truth</th>\n",
       "      <th>question</th>\n",
       "      <th>question_usr</th>\n",
       "      <th>question_sys</th>\n",
       "      <th>completion</th>\n",
       "      <th>error</th>\n",
       "      <th>eval_time</th>\n",
       "      <th>name_model</th>\n",
       "      <th>grading</th>\n",
       "    </tr>\n",
       "  </thead>\n",
       "  <tbody>\n",
       "    <tr>\n",
       "      <th>0</th>\n",
       "      <td>Q-1</td>\n",
       "      <td>{}</td>\n",
       "      <td>C) The worm</td>\n",
       "      <td>In the following, answer the multiple choice q...</td>\n",
       "      <td>In the following, answer the multiple choice q...</td>\n",
       "      <td>In the following, answer the multiple choice q...</td>\n",
       "      <td>C) The worm</td>\n",
       "      <td>None</td>\n",
       "      <td>0.993814</td>\n",
       "      <td>gpt-3.5-turbo</td>\n",
       "      <td>{'grade_bool': True, 'grade_style': 'fuzzy', '...</td>\n",
       "    </tr>\n",
       "    <tr>\n",
       "      <th>1</th>\n",
       "      <td>Q-2</td>\n",
       "      <td>{}</td>\n",
       "      <td>woodchuck\\ncould chuck\\nwood</td>\n",
       "      <td>In the following, answer the multiple choice q...</td>\n",
       "      <td>In the following, answer the multiple choice q...</td>\n",
       "      <td>In the following, answer the multiple choice q...</td>\n",
       "      <td>woodchuck could chuck wood.</td>\n",
       "      <td>None</td>\n",
       "      <td>1.078918</td>\n",
       "      <td>gpt-3.5-turbo</td>\n",
       "      <td>{'grade_bool': False, 'grade_style': 'fuzzy', ...</td>\n",
       "    </tr>\n",
       "  </tbody>\n",
       "</table>\n",
       "</div>"
      ],
      "text/plain": [
       "  name meta_data                  ground_truth  \\\n",
       "0  Q-1        {}                   C) The worm   \n",
       "1  Q-2        {}  woodchuck\\ncould chuck\\nwood   \n",
       "\n",
       "                                            question  \\\n",
       "0  In the following, answer the multiple choice q...   \n",
       "1  In the following, answer the multiple choice q...   \n",
       "\n",
       "                                        question_usr  \\\n",
       "0  In the following, answer the multiple choice q...   \n",
       "1  In the following, answer the multiple choice q...   \n",
       "\n",
       "                                        question_sys  \\\n",
       "0  In the following, answer the multiple choice q...   \n",
       "1  In the following, answer the multiple choice q...   \n",
       "\n",
       "                    completion error  eval_time     name_model  \\\n",
       "0                  C) The worm  None   0.993814  gpt-3.5-turbo   \n",
       "1  woodchuck could chuck wood.  None   1.078918  gpt-3.5-turbo   \n",
       "\n",
       "                                             grading  \n",
       "0  {'grade_bool': True, 'grade_style': 'fuzzy', '...  \n",
       "1  {'grade_bool': False, 'grade_style': 'fuzzy', ...  "
      ]
     },
     "execution_count": 4,
     "metadata": {},
     "output_type": "execute_result"
    }
   ],
   "source": [
    "def question_table(result_fn, results_fp):\n",
    "    with open(os.path.join(results_fp, result_fn)) as f:\n",
    "        data = json.load(f)\n",
    "    return pd.DataFrame(data['questions'])\n",
    "\n",
    "q_tbl = question_table(result_fns[0], results_fp)\n",
    "q_tbl.head(3)"
   ]
  },
  {
   "cell_type": "code",
   "execution_count": 6,
   "metadata": {},
   "outputs": [
    {
     "data": {
      "text/plain": [
       "{'input_name': 'CommonSense QA1', 'model_name': None, 'run_id': '3749'}"
      ]
     },
     "execution_count": 6,
     "metadata": {},
     "output_type": "execute_result"
    }
   ],
   "source": [
    "def sheet_table_info(result_fn, results_fp):\n",
    "    with open(os.path.join(results_fp, result_fn)) as f:\n",
    "        data = json.load(f)\n",
    "    sheet_data = data.get('header')\n",
    "    return {\n",
    "        'input_name':   sheet_data.get('sheet_name'), \n",
    "        'model_name':   sheet_data.get('model_name'), \n",
    "        'run_id':       sheet_data.get('run_id'),\n",
    "    }\n",
    "\n",
    "tbl_info = sheet_table_info(result_fns[0], results_fp)\n",
    "tbl_info"
   ]
  },
  {
   "cell_type": "code",
   "execution_count": 7,
   "metadata": {},
   "outputs": [],
   "source": [
    "def built_full_table(result_fp, result_fn):\n",
    "    q_tbl = question_table(result_fn, results_fp)\n",
    "    tbl_info = sheet_table_info(result_fn, results_fp)\n",
    "    for col_name, col_val in tbl_info.items():\n",
    "        q_tbl[col_name] = col_val\n",
    "    return q_tbl"
   ]
  },
  {
   "cell_type": "code",
   "execution_count": 8,
   "metadata": {},
   "outputs": [],
   "source": [
    "def build_data(results_fp):\n",
    "    result_fns = get_json_result_fns(results_fp)\n",
    "    tbls = []\n",
    "    for result_fn in result_fns:\n",
    "        tbls.append(built_full_table(results_fp, result_fn))\n",
    "    return pd.concat(tbls)"
   ]
  },
  {
   "cell_type": "code",
   "execution_count": 9,
   "metadata": {},
   "outputs": [],
   "source": [
    "data = build_data(results_fp)"
   ]
  },
  {
   "cell_type": "code",
   "execution_count": 10,
   "metadata": {},
   "outputs": [
    {
     "data": {
      "text/plain": [
       "(4, 14)"
      ]
     },
     "execution_count": 10,
     "metadata": {},
     "output_type": "execute_result"
    }
   ],
   "source": [
    "data.shape"
   ]
  },
  {
   "cell_type": "code",
   "execution_count": 14,
   "metadata": {},
   "outputs": [],
   "source": [
    "def expand_object(data: pd.DataFrame, column: str, drop_original=True):\n",
    "    try:\n",
    "        expanded = data[column].apply(pd.Series)\n",
    "        if drop_original:\n",
    "            data = data.drop([column], axis=1)\n",
    "        return pd.concat([data, expanded], axis=1)\n",
    "    except Exception as e:\n",
    "        print(f'Error expanding {column}: {e}')\n",
    "        return data"
   ]
  }
 ],
 "metadata": {
  "kernelspec": {
   "display_name": "venv",
   "language": "python",
   "name": "python3"
  },
  "language_info": {
   "codemirror_mode": {
    "name": "ipython",
    "version": 3
   },
   "file_extension": ".py",
   "mimetype": "text/x-python",
   "name": "python",
   "nbconvert_exporter": "python",
   "pygments_lexer": "ipython3",
   "version": "3.9.10"
  }
 },
 "nbformat": 4,
 "nbformat_minor": 2
}
